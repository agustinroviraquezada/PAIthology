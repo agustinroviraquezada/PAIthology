{
  "nbformat": 4,
  "nbformat_minor": 0,
  "metadata": {
    "colab": {
      "name": "Entrenamiento.ipynb",
      "provenance": [],
      "authorship_tag": "ABX9TyOwUFPmKgWLeIekT6Qwha/p",
      "include_colab_link": true
    },
    "kernelspec": {
      "name": "python3",
      "display_name": "Python 3"
    },
    "language_info": {
      "name": "python"
    }
  },
  "cells": [
    {
      "cell_type": "markdown",
      "metadata": {
        "id": "view-in-github",
        "colab_type": "text"
      },
      "source": [
        "<a href=\"https://colab.research.google.com/github/atinrov/PAIthology/blob/main/Entrenamiento.ipynb\" target=\"_parent\"><img src=\"https://colab.research.google.com/assets/colab-badge.svg\" alt=\"Open In Colab\"/></a>"
      ]
    },
    {
      "cell_type": "code",
      "metadata": {
        "id": "pAQIFc3Bt6xD"
      },
      "source": [
        "! git clone \"https://github.com/google/automl.git\"\n",
        "!pip install -r /kaggle/working/automl/efficientdet/requirements.txt\n",
        "\n",
        "\n",
        "import sys\n",
        "import os\n",
        "from PIL import Image\n",
        "import matplotlib.pyplot as plt\n",
        "import numpy as np\n",
        "import cv2\n",
        "import pandas as pd\n",
        "import ast\n",
        "import glob\n",
        "import sys\n",
        "import tensorflow.compat.v1 as tf\n",
        "\n",
        "\n",
        "!curl -L \"https://app.roboflow.com/ds/ov346wjjfH?key=X9e3bSz1F5\" > roboflow.zip; unzip roboflow.zip; rm roboflow.zip\n",
        "\n",
        "MODEL = 'efficientdet-d0'  #@param\n",
        "\n",
        "def download(m):\n",
        "  if m not in os.listdir():\n",
        "    !wget https://storage.googleapis.com/cloud-tpu-checkpoints/efficientdet/coco/{m}.tar.gz\n",
        "    !tar zxf {m}.tar.gz\n",
        "  ckpt_path = os.path.join(os.getcwd(), m)\n",
        "  return ckpt_path\n",
        "\n",
        "# Download checkpoint.\n",
        "ckpt_path = download(MODEL)\n",
        "print('Use model in {}'.format(ckpt_path))\n",
        "\n",
        "\n",
        "# Train efficientdet from scratch with backbone checkpoint.\n",
        "backbone_name = {\n",
        "    'efficientdet-d0': 'efficientnet-b0',\n",
        "    'efficientdet-d1': 'efficientnet-b1',\n",
        "    'efficientdet-d2': 'efficientnet-b2',\n",
        "    'efficientdet-d3': 'efficientnet-b3',\n",
        "    'efficientdet-d4': 'efficientnet-b4',\n",
        "    'efficientdet-d5': 'efficientnet-b5',\n",
        "    'efficientdet-d6': 'efficientnet-b6',\n",
        "    'efficientdet-d7': 'efficientnet-b6',\n",
        "}[MODEL]\n",
        "\n",
        "\n",
        "# generating train tfrecord is large, so we skip the execution here.\n",
        "import os\n",
        "if backbone_name not in os.listdir():\n",
        "  !wget https://storage.googleapis.com/cloud-tpu-checkpoints/efficientnet/ckptsaug/{backbone_name}.tar.gz\n",
        "  !tar xf {backbone_name}.tar.gz\n",
        "\n",
        "!mkdir /kaggle/working/automl/efficientdet/model_dir\n",
        "\n",
        "\n",
        "#Cambiar patha /kaggle/working/train/' poner la carpegta de los tf records\n",
        "\n",
        "file_pattern = 'mitotic-cells.tfrecord'  # @param\n",
        "images_per_epoch = 57 * len(tf.io.gfile.glob('/kaggle/working/train/' + file_pattern))\n",
        "#¡images_per_epoch = images_per_epoch // 8 * 8  # round to 64.\n",
        "print('images_per_epoch = {}'.format(images_per_epoch))\n",
        "\n",
        "\n",
        "#Añasir el path dek archivo del tfrecord\n",
        "\n",
        "!python main.py --mode=train_and_eval \\\n",
        "    --train_file_pattern=/kaggle/working/train/mitotic-cells.tfrecord \\\n",
        "    --val_file_pattern=/kaggle/working/valid/mitotic-cells.tfrecord \\\n",
        "    --model_name={MODEL} \\\n",
        "    --model_dir=/tmp/model_dir/{MODEL}-scratch  \\\n",
        "    --backbone_ckpt={backbone_name} \\\n",
        "    --train_batch_size=4 \\\n",
        "    --eval_batch_size=4 --eval_samples={images_per_epoch}  \\\n",
        "    --num_examples_per_epoch={images_per_epoch}  --num_epochs=1  \\\n",
        "    --hparams=\"num_classes=20,moving_average_decay=0,mixed_precision=true\""
      ],
      "execution_count": null,
      "outputs": []
    }
  ]
}