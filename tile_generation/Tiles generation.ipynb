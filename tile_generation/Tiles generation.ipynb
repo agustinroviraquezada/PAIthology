{
 "cells": [
  {
   "cell_type": "code",
   "execution_count": 92,
   "id": "2ef81c4e",
   "metadata": {},
   "outputs": [],
   "source": [
    "# Import needed libraries\n",
    "import sys\n",
    "import os\n",
    "from PIL import Image\n",
    "#import matplotlib.pyplot as plt\n",
    "import numpy as np\n",
    "import cv2\n",
    "import pandas as pd\n",
    "import ast\n",
    "import glob\n",
    "\n",
    "import logging\n",
    "logging.basicConfig(format='%(asctime)s %(message)s')\n",
    "\n",
    "\n",
    "TILE_SIZE = 256\n",
    "NUM_TILES = 2"
   ]
  },
  {
   "cell_type": "code",
   "execution_count": 186,
   "id": "bccc5a8a",
   "metadata": {},
   "outputs": [],
   "source": [
    "MY_HOME = '/home/operador/saturdays-ai/PAIthology'\n",
    "\n",
    "LABELS_FILE = f'{MY_HOME}/src/Labels.xlsx'\n",
    "IMAGES_DIR = f'{MY_HOME}/dataset/annotated_images'\n",
    "TILES_DIR = f'{MY_HOME}/dataset/tiles'\n",
    "\n",
    "os.makedirs(TILES_DIR, exist_ok=True)\n",
    "os.makedirs(os.path.join(TILES_DIR,'annotations'), exist_ok=True)\n",
    "os.makedirs(os.path.join(TILES_DIR,'images'), exist_ok=True)"
   ]
  },
  {
   "cell_type": "code",
   "execution_count": 120,
   "id": "6f9d5c77",
   "metadata": {},
   "outputs": [],
   "source": [
    "# Keep only mitosis cells\n",
    "labels = pd.read_excel(LABELS_FILE, dtype={\"MPoint\": object})\n",
    "labels_mitosis = labels[labels['Mitosis']]"
   ]
  },
  {
   "cell_type": "code",
   "execution_count": 121,
   "id": "0c0e512a",
   "metadata": {},
   "outputs": [
    {
     "data": {
      "text/html": [
       "<div>\n",
       "<style scoped>\n",
       "    .dataframe tbody tr th:only-of-type {\n",
       "        vertical-align: middle;\n",
       "    }\n",
       "\n",
       "    .dataframe tbody tr th {\n",
       "        vertical-align: top;\n",
       "    }\n",
       "\n",
       "    .dataframe thead th {\n",
       "        text-align: right;\n",
       "    }\n",
       "</style>\n",
       "<table border=\"1\" class=\"dataframe\">\n",
       "  <thead>\n",
       "    <tr style=\"text-align: right;\">\n",
       "      <th></th>\n",
       "      <th>name</th>\n",
       "      <th>Combinacion</th>\n",
       "      <th>Image</th>\n",
       "      <th>Mitosis</th>\n",
       "      <th>SubImage</th>\n",
       "      <th>MPoint</th>\n",
       "    </tr>\n",
       "  </thead>\n",
       "  <tbody>\n",
       "    <tr>\n",
       "      <th>0</th>\n",
       "      <td>A03_00Aa_mitosis</td>\n",
       "      <td>A03_00Aa</td>\n",
       "      <td>A03</td>\n",
       "      <td>True</td>\n",
       "      <td>1</td>\n",
       "      <td>[[1094.0, 1223.0, 0.8]]</td>\n",
       "    </tr>\n",
       "    <tr>\n",
       "      <th>2</th>\n",
       "      <td>A03_00Ab_mitosis</td>\n",
       "      <td>A03_00Ab</td>\n",
       "      <td>A03</td>\n",
       "      <td>True</td>\n",
       "      <td>1</td>\n",
       "      <td>[[476.0, 394.0, 0.65]]</td>\n",
       "    </tr>\n",
       "    <tr>\n",
       "      <th>4</th>\n",
       "      <td>A03_00Ac_mitosis</td>\n",
       "      <td>A03_00Ac</td>\n",
       "      <td>A03</td>\n",
       "      <td>True</td>\n",
       "      <td>1</td>\n",
       "      <td>[[289.0, 1316.0, 0.65]]</td>\n",
       "    </tr>\n",
       "    <tr>\n",
       "      <th>6</th>\n",
       "      <td>A03_00Ad_mitosis</td>\n",
       "      <td>A03_00Ad</td>\n",
       "      <td>A03</td>\n",
       "      <td>True</td>\n",
       "      <td>3</td>\n",
       "      <td>[[1420.0, 199.0, 1.0], [200.0, 1190.0, 0.8], [...</td>\n",
       "    </tr>\n",
       "    <tr>\n",
       "      <th>7</th>\n",
       "      <td>A03_00Ba_mitosis</td>\n",
       "      <td>A03_00Ba</td>\n",
       "      <td>A03</td>\n",
       "      <td>True</td>\n",
       "      <td>1</td>\n",
       "      <td>[[660.0, 248.0, 0.65]]</td>\n",
       "    </tr>\n",
       "  </tbody>\n",
       "</table>\n",
       "</div>"
      ],
      "text/plain": [
       "               name Combinacion Image  Mitosis  SubImage  \\\n",
       "0  A03_00Aa_mitosis    A03_00Aa   A03     True         1   \n",
       "2  A03_00Ab_mitosis    A03_00Ab   A03     True         1   \n",
       "4  A03_00Ac_mitosis    A03_00Ac   A03     True         1   \n",
       "6  A03_00Ad_mitosis    A03_00Ad   A03     True         3   \n",
       "7  A03_00Ba_mitosis    A03_00Ba   A03     True         1   \n",
       "\n",
       "                                              MPoint  \n",
       "0                            [[1094.0, 1223.0, 0.8]]  \n",
       "2                             [[476.0, 394.0, 0.65]]  \n",
       "4                            [[289.0, 1316.0, 0.65]]  \n",
       "6  [[1420.0, 199.0, 1.0], [200.0, 1190.0, 0.8], [...  \n",
       "7                             [[660.0, 248.0, 0.65]]  "
      ]
     },
     "execution_count": 121,
     "metadata": {},
     "output_type": "execute_result"
    }
   ],
   "source": [
    "labels_mitosis.head()"
   ]
  },
  {
   "cell_type": "code",
   "execution_count": 122,
   "id": "2717ca0d",
   "metadata": {},
   "outputs": [],
   "source": [
    "# This could be a namedtuple\n",
    "class Record:\n",
    "    \"\"\"Class which gathers information of the position and confidence of a cell.\"\"\"\n",
    "    def __init__(self, y: int, x: int, confidence: float):\n",
    "        # ATTENTION, Label.xlsx ARE WITH THE COORDINATES TRANSPOSED. THIS HAS BEEN CHANGED TO THAT\n",
    "\n",
    "        self.x = x\n",
    "        self.y = y\n",
    "        self.confidence = confidence\n",
    "        \n",
    "    def generate_bndbox(self):\n",
    "        bndbox_size = 30\n",
    "        return (\n",
    "            int(self.x - bndbox_size/2), int(self.x + bndbox_size/2),\n",
    "            int(self.y - bndbox_size/2), int(self.y + bndbox_size/2)\n",
    "        )\n",
    "\n",
    "\n",
    "class Tile:\n",
    "    \"\"\"Class of all sub-frames and the specific position of mitotic cells in them.\"\"\"\n",
    "    def __init__(self, image, records=None):\n",
    "        self.image = image\n",
    "        self.records = records or []\n",
    "    \n",
    "    def update_records(self,record):\n",
    "        self.records += [record]"
   ]
  },
  {
   "cell_type": "code",
   "execution_count": 123,
   "id": "8de43b78",
   "metadata": {},
   "outputs": [],
   "source": [
    "sys.path.append(f\"{MY_HOME}/src\")\n",
    "from xml_tools import create_base_xml, create_object_xml\n",
    "\n",
    "\n",
    "class Frame:\n",
    "    \"\"\"Class containg all the information gathered of an specific frame and its\n",
    "    mitotic and not mitotic tiles.\"\"\"\n",
    "    def __init__(self, path, cells, tile_size, num_tiles=10, path_annotations=None):\n",
    "        self.path = path\n",
    "        self.filename = os.path.basename(path)\n",
    "        self.frame = cv2.imread(path)\n",
    "        self.tile_size = tile_size\n",
    "        self.num_tiles = num_tiles\n",
    "        self.cells = cells\n",
    "        self.tiles_mitosis = []\n",
    "        self.tiles_not_mitosis = []\n",
    "        self.records = []\n",
    "        self.path_annotations = path_annotations\n",
    "        self.frame_mask = []\n",
    "        self.frame_mask_per_record = []\n",
    "        \n",
    "    def get_records(self):\n",
    "        self.records = [Record(*cell) for cell in self.cells]\n",
    "        print(f'Got records for {self.filename}')   \n",
    "        \n",
    "    def create_mask(self):\n",
    "        '''Generate a mask of ones around the mitosis point'''\n",
    "        mask = np.zeros(self.frame.shape[:2], np.uint8)\n",
    "        for record in self.records:\n",
    "            mask_per_record = np.zeros(self.frame.shape[:2], np.uint8)\n",
    "            # This could use floor and ceiling to also work with odd tile sizes\n",
    "            mask[int(record.x-(self.tile_size/2)):int(record.x+(self.tile_size/2)),\n",
    "                 int(record.y-(self.tile_size/2)):int(record.y+(self.tile_size/2))] = 1\n",
    "            \n",
    "            mask_per_record[int(record.x-(self.tile_size/2)):int(record.x+(self.tile_size/2)),\n",
    "                 int(record.y-(self.tile_size/2)):int(record.y+(self.tile_size/2))] = 1\n",
    "            \n",
    "            self.frame_mask_per_record.append(mask_per_record)\n",
    "        self.frame_mask = mask\n",
    "        print(f'Generated mask for {self.filename}')\n",
    "\n",
    "    def get_all_tiles(self):\n",
    "        tile_generator = TileGenerator(self, self.tile_size, self.num_tiles)\n",
    "        self.tiles_mitosis = tile_generator.generate_real_positive_tiles()\n",
    "        self.tiles_not_mitosis = tile_generator.generate_real_negative_tiles()\n",
    "        \n",
    "    def create_annotations(self):\n",
    "        delta = 15\n",
    "        count = 0 # enum\n",
    "        for tile_mitosis in self.tiles_mitosis:\n",
    "            tile_filename_base = f\"{self.filename.replace('.tiff','')}_mitosis_{count}\"\n",
    "            tree = create_base_xml(self.path, tile_mitosis, f\"{tile_filename_base}.jpg\")\n",
    "            \n",
    "            tree.write(os.path.join(self.path_annotations,'annotations',f\"{tile_filename_base}.xml\"))\n",
    "            cv2.imwrite(os.path.join(self.path_annotations,'images',f\"{tile_filename_base}.jpg\"), tile_mitosis.image)\n",
    "            count += 1\n",
    "        count = 0\n",
    "        for tile_not_mitosis in self.tiles_not_mitosis:\n",
    "            tile_filename_base = f\"{self.filename.replace('.tiff','')}_not_mitosis_{count}\"\n",
    "            tree = create_base_xml(self.path, tile_not_mitosis, f\"{tile_filename_base}.jpg\")\n",
    "            \n",
    "            tree.write(os.path.join(self.path_annotations,'annotations',f\"{tile_filename_base}.xml\"))\n",
    "            cv2.imwrite(os.path.join(self.path_annotations,'images',f\"{tile_filename_base}.jpg\"), tile_not_mitosis.image)\n",
    "            count += 1"
   ]
  },
  {
   "cell_type": "code",
   "execution_count": null,
   "id": "69127140",
   "metadata": {},
   "outputs": [],
   "source": [
    "import random\n",
    "from matplotlib import pyplot as plt\n",
    "\n",
    "class TileGenerator:\n",
    "    def __init__(self, frame, tile_size, num_tiles):\n",
    "        self.tile_size = tile_size\n",
    "        self.num_tiles = num_tiles\n",
    "        self.frame = frame\n",
    "        self.image_frame = np.array(frame.frame)\n",
    "        self.mitotic_coordinates = frame.records\n",
    "        self.centroid_limits = self.get_centroid_limits()\n",
    "        self.possible_negative_centroids = self.get_possible_negative_centroids()\n",
    "        self.possible_positive_centroids = self.get_possible_positive_centroids()\n",
    "        \n",
    "    def get_possible_negative_centroids(self):\n",
    "        # ATTENTION, Label.xlsx ARE WITH THE COORDINATES TRANSPOSED. THIS HAS BEEN CHANGED TO THAT\n",
    "        return [coords for coords in zip(*np.where(self.frame.frame_mask == 0)) if self.check_record_presence_in_boundaries(Record(*reversed(coords), 0), self.centroid_limits)]\n",
    "    \n",
    "    def get_possible_positive_centroids(self):\n",
    "        # ATTENTION, Label.xlsx ARE WITH THE COORDINATES TRANSPOSED. THIS HAS BEEN CHANGED TO THAT\n",
    "        return [coords for coords in zip(*np.where(self.frame.frame_mask == 1)) if self.check_record_presence_in_boundaries(Record(*reversed(coords), 1), self.centroid_limits)]\n",
    "        \n",
    "    def get_random_negative_tile_centroid(self):\n",
    "        return random.choice(self.possible_negative_centroids)\n",
    "        \n",
    "    def get_random_positive_tile_centroid(self):\n",
    "        return random.choice(self.possible_positive_centroids)\n",
    "    \n",
    "    def get_centroid_limits(self):\n",
    "        limits_random_centroid_x = (\n",
    "            int(self.tile_size/2), # min limit\n",
    "            int(frame.frame.shape[0] - self.tile_size/2)  # max limit\n",
    "        )\n",
    "\n",
    "        limits_random_centroid_y = (\n",
    "            int(self.tile_size/2), # min limit\n",
    "            int(frame.frame.shape[1] - self.tile_size/2)  # max limit\n",
    "        )\n",
    "\n",
    "        return limits_random_centroid_x, limits_random_centroid_y\n",
    "    \n",
    "    def get_boundaries_tile(self, centroid):\n",
    "        return tuple(\n",
    "            (int(centroid_coord - self.tile_size/2), int(centroid_coord + self.tile_size/2)) for centroid_coord in centroid\n",
    "        )\n",
    "    \n",
    "    def check_record_presence_in_boundaries(self, record, boundaries):\n",
    "        return (boundaries[0][0] <= record.x <= boundaries[0][1]) and \\\n",
    "               (boundaries[1][0] <= record.y <= boundaries[1][1])\n",
    "    \n",
    "    def frame_record_to_tile_record(self, x_min_tile : int, y_min_tile : int, record: Record) -> Record:\n",
    "        x_tile = record.x - x_min_tile\n",
    "        y_tile = record.y - y_min_tile    \n",
    "        return Record(x_tile, y_tile, record.confidence)\n",
    "    \n",
    "    def generate_real_negative_tiles(self):\n",
    "        negative_tiles_centroids = [self.get_random_negative_tile_centroid() for _ in range(self.num_tiles)]\n",
    "        boundaries_negative_tiles = [self.get_boundaries_tile(cent) for cent in negative_tiles_centroids]\n",
    "        negative_tiles_images = [self.image_frame[boundaries[0][0]:boundaries[0][1],\n",
    "            boundaries[1][0]:boundaries[1][1]] for boundaries in boundaries_negative_tiles]\n",
    "        negative_tiles_records = [\n",
    "            [self.frame_record_to_tile_record(boundaries[0][0], boundaries[1][0], record) \n",
    "                 for record in self.mitotic_coordinates\n",
    "                 if self.check_record_presence_in_boundaries(record, boundaries)\n",
    "            ]\n",
    "            for boundaries in boundaries_negative_tiles\n",
    "        ]\n",
    "        return [Tile(image, records) for image, records in zip(negative_tiles_images, negative_tiles_records)]\n",
    "    \n",
    "    def generate_real_positive_tiles(self):\n",
    "        # Get centroids for tiles\n",
    "        try:\n",
    "            positive_tiles_centroids = [self.get_random_positive_tile_centroid() for _ in range(self.num_tiles)]\n",
    "        except IndexError:\n",
    "            print(self.possible_positive_centroids)\n",
    "            print(self.centroid_limits)\n",
    "        print(self.mitotic_coordinates[0].__dict__)\n",
    "        \n",
    "        # Get tiles' boundaries\n",
    "        boundaries_positive_tiles = [self.get_boundaries_tile(cent) for cent in positive_tiles_centroids]\n",
    "        print(boundaries_positive_tiles)\n",
    "        \n",
    "        for boundaries in boundaries_positive_tiles:\n",
    "            for record in self.mitotic_coordinates:\n",
    "                print(self.check_record_presence_in_boundaries(record, boundaries))\n",
    "        \n",
    "        # Get tiles' images\n",
    "        positive_tiles_images = [self.image_frame[boundaries[0][0]:boundaries[0][1],\n",
    "            boundaries[1][0]:boundaries[1][1]] for boundaries in boundaries_positive_tiles]\n",
    "        \n",
    "        # Get records in tiles\n",
    "        positive_tiles_records = [\n",
    "            [self.frame_record_to_tile_record(boundaries[0][0], boundaries[1][0], record) \n",
    "                 for record in self.mitotic_coordinates\n",
    "                 if self.check_record_presence_in_boundaries(record, boundaries)\n",
    "            ]\n",
    "            for boundaries in boundaries_positive_tiles\n",
    "        ]\n",
    "        \n",
    "        print(positive_tiles_records)\n",
    "        \n",
    "        # Show tiles within frame\n",
    "        mask = np.zeros(self.frame.frame.shape[:2], np.uint8)\n",
    "        for boundaries in boundaries_positive_tiles:\n",
    "            mask[boundaries[0][0]:boundaries[0][1],\n",
    "            boundaries[1][0]:boundaries[1][1]] = 1\n",
    "        plt.imshow(cv2.bitwise_and(self.frame.frame,self.frame.frame,mask = mask))\n",
    "        \n",
    "        # Return tiles\n",
    "        return [Tile(image, records) for image, records in zip(positive_tiles_images, positive_tiles_records)]\n"
   ]
  },
  {
   "cell_type": "code",
   "execution_count": 173,
   "id": "5b718d79",
   "metadata": {},
   "outputs": [
    {
     "name": "stdout",
     "output_type": "stream",
     "text": [
      "Interpreting A03_00Aa.tiff\n",
      "Got records for A03_00Aa.tiff\n",
      "Generated mask for A03_00Aa.tiff\n",
      "{'x': 1223.0, 'y': 1094.0, 'confidence': 0.8}\n",
      "[((1027, 1283), (955, 1211)), ((1063, 1319), (967, 1223))]\n",
      "True\n",
      "True\n",
      "[[<__main__.Record object at 0x7f0afba33d90>], [<__main__.Record object at 0x7f0b2c8c0610>]]\n",
      "Interpreting A03_00Ab.tiff\n",
      "Got records for A03_00Ab.tiff\n",
      "Generated mask for A03_00Ab.tiff\n",
      "{'x': 394.0, 'y': 476.0, 'confidence': 0.65}\n",
      "[((142, 398), (288, 544)), ((383, 639), (246, 502))]\n",
      "True\n",
      "True\n",
      "[[<__main__.Record object at 0x7f0afbb7eb20>], [<__main__.Record object at 0x7f0afbb7e160>]]\n",
      "Interpreting A03_00Ac.tiff\n",
      "Got records for A03_00Ac.tiff\n",
      "Generated mask for A03_00Ac.tiff\n",
      "{'x': 1316.0, 'y': 289.0, 'confidence': 0.65}\n",
      "[((1087, 1343), (117, 373)), ((1078, 1334), (190, 446))]\n",
      "True\n",
      "True\n",
      "[[<__main__.Record object at 0x7f0afbb53160>], [<__main__.Record object at 0x7f0afbb53130>]]\n",
      "Interpreting A03_00Ad.tiff\n",
      "Got records for A03_00Ad.tiff\n",
      "Generated mask for A03_00Ad.tiff\n",
      "{'x': 199.0, 'y': 1420.0, 'confidence': 1.0}\n",
      "[((142, 398), (1209, 1465)), ((994, 1250), (1251, 1507))]\n",
      "True\n",
      "False\n",
      "False\n",
      "False\n",
      "False\n",
      "True\n",
      "[[<__main__.Record object at 0x7f0b2c7b1e80>], [<__main__.Record object at 0x7f0afbb80b50>]]\n",
      "Interpreting A03_00Ba.tiff\n",
      "Got records for A03_00Ba.tiff\n",
      "Generated mask for A03_00Ba.tiff\n",
      "{'x': 248.0, 'y': 660.0, 'confidence': 0.65}\n",
      "[((127, 383), (426, 682)), ((130, 386), (450, 706))]\n",
      "True\n",
      "True\n",
      "[[<__main__.Record object at 0x7f0afbb80ee0>], [<__main__.Record object at 0x7f0afbb80ac0>]]\n",
      "Interpreting A03_00Bb.tiff\n",
      "Got records for A03_00Bb.tiff\n",
      "Generated mask for A03_00Bb.tiff\n",
      "{'x': 1007.0, 'y': 141.0, 'confidence': 1.0}\n",
      "[((898, 1154), (115, 371)), ((980, 1236), (63, 319))]\n",
      "True\n",
      "True\n",
      "[[<__main__.Record object at 0x7f0afbb80460>], [<__main__.Record object at 0x7f0afbb802b0>]]\n",
      "Interpreting A03_00Bc.tiff\n",
      "Got records for A03_00Bc.tiff\n",
      "Generated mask for A03_00Bc.tiff\n",
      "{'x': 351.0, 'y': 1135.0, 'confidence': 1.0}\n",
      "[((132, 388), (1089, 1345)), ((198, 454), (996, 1252))]\n",
      "True\n",
      "True\n",
      "[[<__main__.Record object at 0x7f0b25d673d0>], [<__main__.Record object at 0x7f0b25d67a60>]]\n",
      "Interpreting A03_00Bd.tiff\n",
      "Got records for A03_00Bd.tiff\n",
      "Generated mask for A03_00Bd.tiff\n",
      "{'x': 372.0, 'y': 644.0, 'confidence': 0.65}\n",
      "[((129, 385), (566, 822)), ((281, 537), (505, 761))]\n",
      "True\n",
      "True\n",
      "[[<__main__.Record object at 0x7f0b25d67df0>], [<__main__.Record object at 0x7f0b25d67c70>]]\n",
      "Interpreting A03_00Ca.tiff\n",
      "Got records for A03_00Ca.tiff\n",
      "Generated mask for A03_00Ca.tiff\n",
      "{'x': 598.0, 'y': 338.0, 'confidence': 0.65}\n",
      "[((567, 823), (187, 443)), ((581, 837), (235, 491))]\n",
      "True\n",
      "True\n",
      "[[<__main__.Record object at 0x7f0b25d67220>], [<__main__.Record object at 0x7f0b25d67a90>]]\n",
      "Interpreting A03_00Cc.tiff\n",
      "Got records for A03_00Cc.tiff\n",
      "Generated mask for A03_00Cc.tiff\n",
      "{'x': 599.0, 'y': 1250.0, 'confidence': 0.8}\n",
      "[((405, 661), (1105, 1361)), ((397, 653), (1047, 1303))]\n",
      "True\n",
      "False\n",
      "False\n",
      "True\n",
      "False\n",
      "False\n",
      "[[<__main__.Record object at 0x7f0b2a8d6a00>], [<__main__.Record object at 0x7f0b2a8d6c40>]]\n",
      "Interpreting A03_00Cd.tiff\n",
      "Got records for A03_00Cd.tiff\n",
      "Generated mask for A03_00Cd.tiff\n",
      "{'x': 610.0, 'y': 271.0, 'confidence': 0.65}\n",
      "[((381, 637), (167, 423)), ((481, 737), (246, 502))]\n",
      "True\n",
      "True\n",
      "[[<__main__.Record object at 0x7f0afbb80820>], [<__main__.Record object at 0x7f0afbb538b0>]]\n",
      "Interpreting A03_01Aa.tiff\n",
      "Got records for A03_01Aa.tiff\n",
      "Generated mask for A03_01Aa.tiff\n",
      "{'x': 1174.0, 'y': 934.0, 'confidence': 0.65}\n",
      "[((1025, 1281), (1115, 1371)), ((881, 1137), (289, 545))]\n",
      "False\n",
      "True\n",
      "False\n",
      "False\n",
      "False\n",
      "True\n",
      "[[<__main__.Record object at 0x7f0b12a7baf0>], [<__main__.Record object at 0x7f0b12a7b040>]]\n",
      "Interpreting A03_01Ad.tiff\n",
      "Got records for A03_01Ad.tiff\n",
      "Generated mask for A03_01Ad.tiff\n",
      "{'x': 256.0, 'y': 536.0, 'confidence': 1.0}\n",
      "[((111, 367), (334, 590)), ((24, 280), (476, 732))]\n",
      "True\n",
      "False\n",
      "True\n",
      "False\n",
      "[[<__main__.Record object at 0x7f0b25c93f40>], [<__main__.Record object at 0x7f0b25c93670>]]\n",
      "Interpreting A03_01Ba.tiff\n",
      "Got records for A03_01Ba.tiff\n",
      "Generated mask for A03_01Ba.tiff\n",
      "{'x': 622.0, 'y': 1298.0, 'confidence': 0.8}\n",
      "[((27, 283), (701, 957)), ((414, 670), (987, 1243))]\n",
      "False\n",
      "False\n",
      "False\n",
      "False\n",
      "True\n",
      "False\n",
      "False\n",
      "False\n",
      "False\n",
      "True\n",
      "False\n",
      "False\n",
      "[[<__main__.Record object at 0x7f0b12a87fa0>], [<__main__.Record object at 0x7f0b12a87b50>]]\n",
      "Interpreting A03_01Cb.tiff\n",
      "Got records for A03_01Cb.tiff\n",
      "Generated mask for A03_01Cb.tiff\n",
      "{'x': 333.0, 'y': 406.0, 'confidence': 0.8}\n",
      "[((299, 555), (729, 985)), ((195, 451), (354, 610))]\n",
      "False\n",
      "True\n",
      "True\n",
      "False\n",
      "[[<__main__.Record object at 0x7f0b12a7fcd0>], [<__main__.Record object at 0x7f0b12a7f160>]]\n",
      "Interpreting A03_01Cc.tiff\n",
      "Got records for A03_01Cc.tiff\n",
      "Generated mask for A03_01Cc.tiff\n",
      "{'x': 427.0, 'y': 423.0, 'confidence': 0.65}\n",
      "[((294, 550), (412, 668)), ((417, 673), (358, 614))]\n",
      "True\n",
      "True\n",
      "[[<__main__.Record object at 0x7f0b12a7f2e0>], [<__main__.Record object at 0x7f0b12a7fe80>]]\n",
      "Interpreting A03_01Cd.tiff\n",
      "Got records for A03_01Cd.tiff\n",
      "Generated mask for A03_01Cd.tiff\n",
      "{'x': 185.0, 'y': 975.0, 'confidence': 1.0}\n",
      "[((390, 646), (374, 630)), ((516, 772), (343, 599))]\n",
      "False\n",
      "True\n",
      "False\n",
      "True\n",
      "[[<__main__.Record object at 0x7f0b12a87d60>], [<__main__.Record object at 0x7f0b12a872b0>]]\n",
      "Interpreting A03_01Da.tiff\n",
      "Got records for A03_01Da.tiff\n",
      "Generated mask for A03_01Da.tiff\n",
      "{'x': 560.0, 'y': 872.0, 'confidence': 0.65}\n",
      "[((362, 618), (834, 1090)), ((528, 784), (815, 1071))]\n",
      "True\n",
      "False\n",
      "False\n",
      "True\n",
      "False\n",
      "False\n",
      "[[<__main__.Record object at 0x7f0b12a7b820>], [<__main__.Record object at 0x7f0b12a7bee0>]]\n",
      "Interpreting A03_01Dc.tiff\n",
      "Got records for A03_01Dc.tiff\n",
      "Generated mask for A03_01Dc.tiff\n",
      "{'x': 1354.0, 'y': 338.0, 'confidence': 0.65}\n",
      "[((1110, 1366), (152, 408)), ((1117, 1373), (144, 400))]\n",
      "True\n",
      "True\n",
      "[[<__main__.Record object at 0x7f0b12a7bee0>], [<__main__.Record object at 0x7f0b12a7b070>]]\n",
      "Interpreting A03_01Dd.tiff\n",
      "Got records for A03_01Dd.tiff\n",
      "Generated mask for A03_01Dd.tiff\n",
      "{'x': 475.0, 'y': 588.0, 'confidence': 0.8}\n",
      "[((386, 642), (354, 610)), ((413, 669), (346, 602))]\n",
      "True\n",
      "True\n",
      "[[<__main__.Record object at 0x7f0b12a7bdc0>], [<__main__.Record object at 0x7f0b12a7b580>]]\n",
      "Interpreting A03_02Aa.tiff\n",
      "Got records for A03_02Aa.tiff\n",
      "Generated mask for A03_02Aa.tiff\n",
      "{'x': 503.0, 'y': 1243.0, 'confidence': 0.8}\n",
      "[((391, 647), (1160, 1416)), ((309, 565), (1194, 1450))]\n",
      "True\n",
      "False\n",
      "True\n",
      "False\n",
      "[[<__main__.Record object at 0x7f0b2a4aab50>], [<__main__.Record object at 0x7f0b2a4aab20>]]\n",
      "Interpreting A03_02Ab.tiff\n",
      "Got records for A03_02Ab.tiff\n",
      "Generated mask for A03_02Ab.tiff\n",
      "{'x': 960.0, 'y': 650.0, 'confidence': 1.0}\n",
      "[((943, 1199), (517, 773)), ((824, 1080), (632, 888))]\n",
      "True\n",
      "True\n",
      "[[<__main__.Record object at 0x7f0b2a4aa490>], [<__main__.Record object at 0x7f0b2a4aaa60>]]\n",
      "Interpreting A03_02Ac.tiff\n",
      "Got records for A03_02Ac.tiff\n",
      "Generated mask for A03_02Ac.tiff\n",
      "{'x': 344.0, 'y': 1390.0, 'confidence': 1.0}\n",
      "[((428, 684), (51, 307)), ((325, 581), (1140, 1396))]\n",
      "False\n",
      "False\n",
      "False\n",
      "False\n",
      "False\n",
      "False\n",
      "False\n",
      "True\n",
      "False\n",
      "False\n",
      "True\n",
      "False\n",
      "False\n",
      "False\n",
      "False\n",
      "False\n",
      "False\n",
      "False\n",
      "False\n",
      "False\n",
      "[[<__main__.Record object at 0x7f0b2a4aafa0>], [<__main__.Record object at 0x7f0b2a4aa7f0>]]\n",
      "Interpreting A03_02Ad.tiff\n",
      "Got records for A03_02Ad.tiff\n",
      "Generated mask for A03_02Ad.tiff\n",
      "{'x': 851.0, 'y': 1296.0, 'confidence': 0.8}\n",
      "[((202, 458), (967, 1223)), ((718, 974), (1240, 1496))]\n",
      "False\n",
      "True\n",
      "False\n",
      "False\n",
      "False\n",
      "False\n",
      "True\n",
      "False\n",
      "False\n",
      "False\n",
      "False\n",
      "False\n",
      "[[<__main__.Record object at 0x7f0b2a4aa4f0>], [<__main__.Record object at 0x7f0b2a4aac10>]]\n",
      "Interpreting A03_02Bb.tiff\n",
      "Got records for A03_02Bb.tiff\n",
      "Generated mask for A03_02Bb.tiff\n",
      "{'x': 776.0, 'y': 1112.0, 'confidence': 1.0}\n",
      "[((737, 993), (984, 1240)), ((659, 915), (1043, 1299))]\n",
      "True\n",
      "False\n",
      "True\n",
      "False\n",
      "[[<__main__.Record object at 0x7f0b2a4c2ac0>], [<__main__.Record object at 0x7f0b2a4c2af0>]]\n",
      "Interpreting A03_02Bc.tiff\n",
      "Got records for A03_02Bc.tiff\n",
      "Generated mask for A03_02Bc.tiff\n",
      "{'x': 1294.0, 'y': 603.0, 'confidence': 1.0}\n",
      "[((624, 880), (140, 396)), ((581, 837), (116, 372))]\n",
      "False\n",
      "False\n",
      "True\n",
      "False\n",
      "False\n",
      "True\n",
      "[[<__main__.Record object at 0x7f0b2a4c2280>], [<__main__.Record object at 0x7f0b2a4c29a0>]]\n",
      "Interpreting A03_02Ca.tiff\n",
      "Got records for A03_02Ca.tiff\n",
      "Generated mask for A03_02Ca.tiff\n",
      "{'x': 68.0, 'y': 671.0, 'confidence': 1.0}\n",
      "[((891, 1147), (1228, 1484)), ((685, 941), (1249, 1505))]\n",
      "False\n",
      "True\n",
      "False\n",
      "True\n",
      "[[<__main__.Record object at 0x7f0b2a56ec70>], [<__main__.Record object at 0x7f0b2a56ea60>]]\n",
      "Interpreting A03_02Cc.tiff\n",
      "Got records for A03_02Cc.tiff\n",
      "Generated mask for A03_02Cc.tiff\n"
     ]
    },
    {
     "name": "stdout",
     "output_type": "stream",
     "text": [
      "{'x': 1054.0, 'y': 1236.0, 'confidence': 0.65}\n",
      "[((1044, 1300), (1061, 1317)), ((1037, 1293), (1101, 1357))]\n",
      "True\n",
      "True\n",
      "[[<__main__.Record object at 0x7f0b2a56e9a0>], [<__main__.Record object at 0x7f0b2a56e0d0>]]\n",
      "Interpreting A03_02Cd.tiff\n",
      "Got records for A03_02Cd.tiff\n",
      "Generated mask for A03_02Cd.tiff\n",
      "{'x': 994.0, 'y': 1379.0, 'confidence': 1.0}\n",
      "[((750, 1006), (1184, 1440)), ((755, 1011), (1228, 1484))]\n",
      "True\n",
      "True\n",
      "[[<__main__.Record object at 0x7f0b2a56e790>], [<__main__.Record object at 0x7f0b2a56e730>]]\n",
      "Interpreting A03_02Da.tiff\n",
      "Got records for A03_02Da.tiff\n",
      "Generated mask for A03_02Da.tiff\n",
      "{'x': 887.0, 'y': 789.0, 'confidence': 0.65}\n",
      "[((864, 1120), (719, 975)), ((455, 711), (592, 848))]\n",
      "True\n",
      "False\n",
      "False\n",
      "False\n",
      "True\n",
      "False\n",
      "[[<__main__.Record object at 0x7f0b2a4c2f70>], [<__main__.Record object at 0x7f0b2a4c2fa0>]]\n",
      "Interpreting A03_02Dc.tiff\n",
      "Got records for A03_02Dc.tiff\n",
      "Generated mask for A03_02Dc.tiff\n",
      "[]\n",
      "((128, 1248), (128, 1411))\n",
      "{'x': 90.0, 'y': 1040.0, 'confidence': 0.65}\n"
     ]
    },
    {
     "ename": "UnboundLocalError",
     "evalue": "local variable 'positive_tiles_centroids' referenced before assignment",
     "output_type": "error",
     "traceback": [
      "\u001b[0;31m---------------------------------------------------------------------------\u001b[0m",
      "\u001b[0;31mUnboundLocalError\u001b[0m                         Traceback (most recent call last)",
      "\u001b[0;32m<ipython-input-173-60f02c3fcfcf>\u001b[0m in \u001b[0;36m<module>\u001b[0;34m\u001b[0m\n\u001b[1;32m     22\u001b[0m         \u001b[0mframe\u001b[0m\u001b[0;34m.\u001b[0m\u001b[0mget_records\u001b[0m\u001b[0;34m(\u001b[0m\u001b[0;34m)\u001b[0m\u001b[0;34m\u001b[0m\u001b[0;34m\u001b[0m\u001b[0m\n\u001b[1;32m     23\u001b[0m         \u001b[0mframe\u001b[0m\u001b[0;34m.\u001b[0m\u001b[0mcreate_mask\u001b[0m\u001b[0;34m(\u001b[0m\u001b[0;34m)\u001b[0m\u001b[0;34m\u001b[0m\u001b[0;34m\u001b[0m\u001b[0m\n\u001b[0;32m---> 24\u001b[0;31m         \u001b[0mframe\u001b[0m\u001b[0;34m.\u001b[0m\u001b[0mget_all_tiles\u001b[0m\u001b[0;34m(\u001b[0m\u001b[0;34m)\u001b[0m\u001b[0;34m\u001b[0m\u001b[0;34m\u001b[0m\u001b[0m\n\u001b[0m\u001b[1;32m     25\u001b[0m         \u001b[0mframe\u001b[0m\u001b[0;34m.\u001b[0m\u001b[0mcreate_annotations\u001b[0m\u001b[0;34m(\u001b[0m\u001b[0;34m)\u001b[0m\u001b[0;34m\u001b[0m\u001b[0;34m\u001b[0m\u001b[0m\n",
      "\u001b[0;32m<ipython-input-123-c7ca26fd4af0>\u001b[0m in \u001b[0;36mget_all_tiles\u001b[0;34m(self)\u001b[0m\n\u001b[1;32m     42\u001b[0m     \u001b[0;32mdef\u001b[0m \u001b[0mget_all_tiles\u001b[0m\u001b[0;34m(\u001b[0m\u001b[0mself\u001b[0m\u001b[0;34m)\u001b[0m\u001b[0;34m:\u001b[0m\u001b[0;34m\u001b[0m\u001b[0;34m\u001b[0m\u001b[0m\n\u001b[1;32m     43\u001b[0m         \u001b[0mtile_generator\u001b[0m \u001b[0;34m=\u001b[0m \u001b[0mTileGenerator\u001b[0m\u001b[0;34m(\u001b[0m\u001b[0mself\u001b[0m\u001b[0;34m,\u001b[0m \u001b[0mself\u001b[0m\u001b[0;34m.\u001b[0m\u001b[0mtile_size\u001b[0m\u001b[0;34m,\u001b[0m \u001b[0mself\u001b[0m\u001b[0;34m.\u001b[0m\u001b[0mnum_tiles\u001b[0m\u001b[0;34m)\u001b[0m\u001b[0;34m\u001b[0m\u001b[0;34m\u001b[0m\u001b[0m\n\u001b[0;32m---> 44\u001b[0;31m         \u001b[0mself\u001b[0m\u001b[0;34m.\u001b[0m\u001b[0mtiles_mitosis\u001b[0m \u001b[0;34m=\u001b[0m \u001b[0mtile_generator\u001b[0m\u001b[0;34m.\u001b[0m\u001b[0mgenerate_real_positive_tiles\u001b[0m\u001b[0;34m(\u001b[0m\u001b[0;34m)\u001b[0m\u001b[0;34m\u001b[0m\u001b[0;34m\u001b[0m\u001b[0m\n\u001b[0m\u001b[1;32m     45\u001b[0m         \u001b[0mself\u001b[0m\u001b[0;34m.\u001b[0m\u001b[0mtiles_not_mitosis\u001b[0m \u001b[0;34m=\u001b[0m \u001b[0mtile_generator\u001b[0m\u001b[0;34m.\u001b[0m\u001b[0mgenerate_real_negative_tiles\u001b[0m\u001b[0;34m(\u001b[0m\u001b[0;34m)\u001b[0m\u001b[0;34m\u001b[0m\u001b[0;34m\u001b[0m\u001b[0m\n\u001b[1;32m     46\u001b[0m \u001b[0;34m\u001b[0m\u001b[0m\n",
      "\u001b[0;32m<ipython-input-171-ab7ab6c44da1>\u001b[0m in \u001b[0;36mgenerate_real_positive_tiles\u001b[0;34m(self)\u001b[0m\n\u001b[1;32m     76\u001b[0m \u001b[0;34m\u001b[0m\u001b[0m\n\u001b[1;32m     77\u001b[0m         \u001b[0;31m# Get tiles' boundaries\u001b[0m\u001b[0;34m\u001b[0m\u001b[0;34m\u001b[0m\u001b[0;34m\u001b[0m\u001b[0m\n\u001b[0;32m---> 78\u001b[0;31m         \u001b[0mboundaries_positive_tiles\u001b[0m \u001b[0;34m=\u001b[0m \u001b[0;34m[\u001b[0m\u001b[0mself\u001b[0m\u001b[0;34m.\u001b[0m\u001b[0mget_boundaries_tile\u001b[0m\u001b[0;34m(\u001b[0m\u001b[0mcent\u001b[0m\u001b[0;34m)\u001b[0m \u001b[0;32mfor\u001b[0m \u001b[0mcent\u001b[0m \u001b[0;32min\u001b[0m \u001b[0mpositive_tiles_centroids\u001b[0m\u001b[0;34m]\u001b[0m\u001b[0;34m\u001b[0m\u001b[0;34m\u001b[0m\u001b[0m\n\u001b[0m\u001b[1;32m     79\u001b[0m         \u001b[0mprint\u001b[0m\u001b[0;34m(\u001b[0m\u001b[0mboundaries_positive_tiles\u001b[0m\u001b[0;34m)\u001b[0m\u001b[0;34m\u001b[0m\u001b[0;34m\u001b[0m\u001b[0m\n\u001b[1;32m     80\u001b[0m \u001b[0;34m\u001b[0m\u001b[0m\n",
      "\u001b[0;31mUnboundLocalError\u001b[0m: local variable 'positive_tiles_centroids' referenced before assignment"
     ]
    },
    {
     "data": {
      "image/png": "[encoded data removed]",
      "text/plain": [
       "<Figure size 432x288 with 1 Axes>"
      ]
     },
     "metadata": {
      "needs_background": "light"
     },
     "output_type": "display_data"
    }
   ],
   "source": [
    "'''Run data augmentation \n",
    " --> for every mitotic point we create \n",
    " - 10 images containing that cell and\n",
    " - 10 not containing any\n",
    " '''\n",
    "for i, row in labels_mitosis.iterrows():\n",
    "    filename = f'{row[\"Combinacion\"]}.tiff'\n",
    "    #filename = f'{row[\"Combinacion\"]}_mitosis.jpg'\n",
    "    path_image = glob.glob(os.path.join(IMAGES_DIR,'x40', filename))\n",
    "    #path_image = glob.glob(os.path.join(IMAGES_DIR, filename))\n",
    "    if os.path.exists(path_image[0]):\n",
    "        print(f\"Interpreting {filename}\")\n",
    "        #if filename == 'A03_02Cd.tiff':\n",
    "        cells = row[\"MPoint\"]\n",
    "        cells = ast.literal_eval(cells)\n",
    "        frame = Frame(path=path_image[0],\n",
    "                      cells=cells,\n",
    "                      tile_size=TILE_SIZE,\n",
    "                      num_tiles=NUM_TILES,\n",
    "                      path_annotations=TILES_DIR)\n",
    "\n",
    "        frame.get_records()\n",
    "        frame.create_mask()\n",
    "        frame.get_all_tiles()\n",
    "        frame.create_annotations()\n"
   ]
  },
  {
   "cell_type": "code",
   "execution_count": 189,
   "id": "9b3a24e8",
   "metadata": {},
   "outputs": [],
   "source": [
    "for i, row in labels_mitosis.iterrows():\n",
    "    filename = f'{row[\"Combinacion\"]}_mitosis.jpg'\n",
    "    #path_image = glob.glob(os.path.join(IMAGES_DIR,'*','x40', filename))\n",
    "    path_image = glob.glob(os.path.join(IMAGES_DIR, filename))\n",
    "    break"
   ]
  },
  {
   "cell_type": "code",
   "execution_count": 190,
   "id": "cd49f707",
   "metadata": {},
   "outputs": [
    {
     "data": {
      "text/plain": [
       "('A03_00Aa_mitosis.jpg',\n",
       " ['/home/operador/saturdays-ai/PAIthology/dataset/annotated_images/A03_00Aa_mitosis.jpg'])"
      ]
     },
     "execution_count": 190,
     "metadata": {},
     "output_type": "execute_result"
    }
   ],
   "source": [
    "filename, path_image"
   ]
  },
  {
   "cell_type": "code",
   "execution_count": 147,
   "id": "b4d25cb0",
   "metadata": {},
   "outputs": [],
   "source": [
    "f_name = f'{row[\"Combinacion\"]}_mitosis.jpg'\n",
    "p_image = glob.glob(os.path.join(f'{MY_HOME}/dataset/annotated_images', f_name))"
   ]
  },
  {
   "cell_type": "code",
   "execution_count": 148,
   "id": "724db9dd",
   "metadata": {},
   "outputs": [
    {
     "data": {
      "text/plain": [
       "['/home/operador/saturdays-ai/PAIthology/dataset/annotated_images/A03_02Cd_mitosis.jpg']"
      ]
     },
     "execution_count": 148,
     "metadata": {},
     "output_type": "execute_result"
    }
   ],
   "source": [
    "p_image"
   ]
  },
  {
   "cell_type": "code",
   "execution_count": 149,
   "id": "ffe22f90",
   "metadata": {},
   "outputs": [
    {
     "data": {
      "text/plain": [
       "True"
      ]
     },
     "execution_count": 149,
     "metadata": {},
     "output_type": "execute_result"
    }
   ],
   "source": [
    "os.path.exists(path_image[0])"
   ]
  },
  {
   "cell_type": "code",
   "execution_count": 191,
   "id": "a881b493",
   "metadata": {},
   "outputs": [
    {
     "data": {
      "text/plain": [
       "[[1094.0, 1223.0, 0.8]]"
      ]
     },
     "execution_count": 191,
     "metadata": {},
     "output_type": "execute_result"
    }
   ],
   "source": [
    "cells = row[\"MPoint\"]\n",
    "cells = ast.literal_eval(cells)\n",
    "cells"
   ]
  },
  {
   "cell_type": "code",
   "execution_count": 192,
   "id": "eab564af",
   "metadata": {},
   "outputs": [],
   "source": [
    "frame = Frame(path=path_image[0],\n",
    "                      cells=cells,\n",
    "                      tile_size=TILE_SIZE,\n",
    "                      num_tiles=NUM_TILES,\n",
    "                      path_annotations=TILES_DIR)"
   ]
  },
  {
   "cell_type": "code",
   "execution_count": 193,
   "id": "991e1808",
   "metadata": {},
   "outputs": [
    {
     "name": "stdout",
     "output_type": "stream",
     "text": [
      "Got records for A03_00Aa_mitosis.jpg\n"
     ]
    }
   ],
   "source": [
    "frame.get_records()"
   ]
  },
  {
   "cell_type": "code",
   "execution_count": 194,
   "id": "1b603753",
   "metadata": {},
   "outputs": [
    {
     "data": {
      "text/plain": [
       "{'x': 1223.0, 'y': 1094.0, 'confidence': 0.8}"
      ]
     },
     "execution_count": 194,
     "metadata": {},
     "output_type": "execute_result"
    }
   ],
   "source": [
    "# Cannot handle records whose location is less than the border\n",
    "frame.records[0].__dict__"
   ]
  },
  {
   "cell_type": "code",
   "execution_count": 195,
   "id": "87732375",
   "metadata": {},
   "outputs": [
    {
     "name": "stdout",
     "output_type": "stream",
     "text": [
      "Generated mask for A03_00Aa_mitosis.jpg\n"
     ]
    }
   ],
   "source": [
    "frame.create_mask()"
   ]
  },
  {
   "cell_type": "code",
   "execution_count": 196,
   "id": "38f11f1c",
   "metadata": {},
   "outputs": [
    {
     "data": {
      "text/plain": [
       "65536"
      ]
     },
     "execution_count": 196,
     "metadata": {},
     "output_type": "execute_result"
    }
   ],
   "source": [
    "frame.frame_mask.sum()"
   ]
  },
  {
   "cell_type": "code",
   "execution_count": 197,
   "id": "26e12ef9",
   "metadata": {},
   "outputs": [
    {
     "data": {
      "text/plain": [
       "(1376, 1539, 3)"
      ]
     },
     "execution_count": 197,
     "metadata": {},
     "output_type": "execute_result"
    }
   ],
   "source": [
    "frame.frame.shape"
   ]
  },
  {
   "cell_type": "code",
   "execution_count": 198,
   "id": "5665f00a",
   "metadata": {},
   "outputs": [
    {
     "data": {
      "text/plain": [
       "<matplotlib.image.AxesImage at 0x7f0b25d6c1f0>"
      ]
     },
     "execution_count": 198,
     "metadata": {},
     "output_type": "execute_result"
    },
    {
     "data": {
      "image/png": "[encoded data removed]",
      "text/plain": [
       "<Figure size 432x288 with 1 Axes>"
      ]
     },
     "metadata": {
      "needs_background": "light"
     },
     "output_type": "display_data"
    }
   ],
   "source": [
    "plt.imshow(cv2.bitwise_and(frame.frame, frame.frame, mask = frame.frame_mask))"
   ]
  },
  {
   "cell_type": "code",
   "execution_count": 158,
   "id": "b9510211",
   "metadata": {},
   "outputs": [
    {
     "data": {
      "text/plain": [
       "(1376, 1539, 3)"
      ]
     },
     "execution_count": 158,
     "metadata": {},
     "output_type": "execute_result"
    }
   ],
   "source": [
    "frame.frame.shape"
   ]
  },
  {
   "cell_type": "code",
   "execution_count": 201,
   "id": "fa943cfc",
   "metadata": {},
   "outputs": [
    {
     "name": "stdout",
     "output_type": "stream",
     "text": [
      "{'x': 1223.0, 'y': 1094.0, 'confidence': 0.8}\n",
      "[((967, 1223), (1070, 1326)), ((1054, 1310), (949, 1205))]\n",
      "True\n",
      "True\n",
      "[[<__main__.Record object at 0x7f0b2a65e9d0>], [<__main__.Record object at 0x7f0b2a65e5b0>]]\n"
     ]
    },
    {
     "data": {
      "image/png": "[encoded data removed]",
      "text/plain": [
       "<Figure size 432x288 with 1 Axes>"
      ]
     },
     "metadata": {
      "needs_background": "light"
     },
     "output_type": "display_data"
    }
   ],
   "source": [
    "frame.get_all_tiles()"
   ]
  },
  {
   "cell_type": "code",
   "execution_count": 160,
   "id": "ddd20887",
   "metadata": {},
   "outputs": [
    {
     "data": {
      "text/plain": [
       "((128, 1248), (128, 1411))"
      ]
     },
     "execution_count": 160,
     "metadata": {},
     "output_type": "execute_result"
    }
   ],
   "source": [
    "tg = TileGenerator(frame, frame.tile_size, frame.num_tiles)\n",
    "tg.centroid_limits"
   ]
  },
  {
   "cell_type": "code",
   "execution_count": 163,
   "id": "c0429b18",
   "metadata": {},
   "outputs": [],
   "source": [
    "poss = [coords for coords in zip(*np.where(tg.frame.frame_mask == 1))]"
   ]
  },
  {
   "cell_type": "code",
   "execution_count": 167,
   "id": "77766f80",
   "metadata": {},
   "outputs": [
    {
     "data": {
      "text/plain": [
       "False"
      ]
     },
     "execution_count": 167,
     "metadata": {},
     "output_type": "execute_result"
    }
   ],
   "source": [
    "tg.check_record_presence_in_boundaries(Record(*poss[0], 1), tg.centroid_limits)"
   ]
  },
  {
   "cell_type": "code",
   "execution_count": 169,
   "id": "d101b4b2",
   "metadata": {},
   "outputs": [
    {
     "data": {
      "text/plain": [
       "(866, 1251)"
      ]
     },
     "execution_count": 169,
     "metadata": {},
     "output_type": "execute_result"
    }
   ],
   "source": [
    "poss[0]"
   ]
  },
  {
   "cell_type": "code",
   "execution_count": 170,
   "id": "a99a4f71",
   "metadata": {},
   "outputs": [
    {
     "data": {
      "text/plain": [
       "{'x': 866, 'y': 1251, 'confidence': 1}"
      ]
     },
     "execution_count": 170,
     "metadata": {},
     "output_type": "execute_result"
    }
   ],
   "source": [
    "Record(*reversed(poss[0]), 1).__dict__"
   ]
  },
  {
   "cell_type": "code",
   "execution_count": 165,
   "id": "db8bd756",
   "metadata": {},
   "outputs": [
    {
     "data": {
      "text/plain": [
       "False"
      ]
     },
     "execution_count": 165,
     "metadata": {},
     "output_type": "execute_result"
    }
   ],
   "source": [
    "any(tg.check_record_presence_in_boundaries(Record(*coords, 1), tg.centroid_limits) for coords in poss)"
   ]
  },
  {
   "cell_type": "code",
   "execution_count": 59,
   "id": "2576c7ad",
   "metadata": {},
   "outputs": [
    {
     "data": {
      "text/plain": [
       "{'image': array([[[231, 231, 243],\n",
       "         [232, 234, 245],\n",
       "         [230, 235, 244],\n",
       "         ...,\n",
       "         [166, 122, 221],\n",
       "         [182, 138, 237],\n",
       "         [163, 119, 218]],\n",
       " \n",
       "        [[230, 231, 241],\n",
       "         [229, 231, 242],\n",
       "         [228, 230, 241],\n",
       "         ...,\n",
       "         [183, 146, 238],\n",
       "         [204, 168, 255],\n",
       "         [203, 168, 255]],\n",
       " \n",
       "        [[229, 228, 238],\n",
       "         [227, 227, 239],\n",
       "         [226, 226, 240],\n",
       "         ...,\n",
       "         [174, 137, 229],\n",
       "         [192, 160, 249],\n",
       "         [201, 171, 255]],\n",
       " \n",
       "        ...,\n",
       " \n",
       "        [[135,  88, 214],\n",
       "         [135,  90, 211],\n",
       "         [135,  90, 206],\n",
       "         ...,\n",
       "         [118,  92, 200],\n",
       "         [146, 118, 225],\n",
       "         [147, 118, 221]],\n",
       " \n",
       "        [[130,  87, 214],\n",
       "         [128,  85, 206],\n",
       "         [122,  78, 191],\n",
       "         ...,\n",
       "         [114,  88, 188],\n",
       "         [129, 101, 197],\n",
       "         [144, 113, 206]],\n",
       " \n",
       "        [[126,  87, 216],\n",
       "         [121,  83, 203],\n",
       "         [117,  74, 187],\n",
       "         ...,\n",
       "         [120,  89, 180],\n",
       "         [119,  83, 167],\n",
       "         [137,  98, 178]]], dtype=uint8),\n",
       " 'records': []}"
      ]
     },
     "execution_count": 59,
     "metadata": {},
     "output_type": "execute_result"
    }
   ],
   "source": [
    "frame.tiles_mitosis[1].__dict__"
   ]
  },
  {
   "cell_type": "code",
   "execution_count": 91,
   "id": "48e67d15",
   "metadata": {},
   "outputs": [],
   "source": [
    "frame.create_annotations()"
   ]
  },
  {
   "cell_type": "code",
   "execution_count": null,
   "id": "975f177a",
   "metadata": {},
   "outputs": [],
   "source": []
  }
 ],
 "metadata": {
  "kernelspec": {
   "display_name": "Python 3",
   "language": "python",
   "name": "python3"
  },
  "language_info": {
   "codemirror_mode": {
    "name": "ipython",
    "version": 3
   },
   "file_extension": ".py",
   "mimetype": "text/x-python",
   "name": "python",
   "nbconvert_exporter": "python",
   "pygments_lexer": "ipython3",
   "version": "3.8.5"
  }
 },
 "nbformat": 4,
 "nbformat_minor": 5
}
