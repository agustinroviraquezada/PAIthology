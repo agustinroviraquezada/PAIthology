{
 "cells": [
  {
   "cell_type": "code",
   "execution_count": 1,
   "id": "2ef81c4e",
   "metadata": {},
   "outputs": [],
   "source": [
    "# Import needed libraries\n",
    "import sys\n",
    "import os\n",
    "from PIL import Image\n",
    "#import matplotlib.pyplot as plt\n",
    "import numpy as np\n",
    "import cv2\n",
    "import pandas as pd\n",
    "import ast\n",
    "import glob\n",
    "\n",
    "import logging\n",
    "logging.basicConfig(format='%(asctime)s %(message)s')\n",
    "\n",
    "\n",
    "TILE_SIZE = 256\n",
    "NUM_TILES = 2"
   ]
  },
  {
   "cell_type": "code",
   "execution_count": 2,
   "id": "bccc5a8a",
   "metadata": {},
   "outputs": [],
   "source": [
    "MY_HOME = '/home/operador/saturdays-ai/PAIthology'\n",
    "\n",
    "LABELS_FILE = f'{MY_HOME}/src/Labels.xlsx'\n",
    "IMAGES_DIR = f'{MY_HOME}/dataset/annotated_images'\n",
    "TILES_DIR = f'{MY_HOME}/dataset/tiles'\n",
    "\n",
    "os.makedirs(TILES_DIR, exist_ok=True)\n",
    "os.makedirs(os.path.join(TILES_DIR,'annotations'), exist_ok=True)\n",
    "os.makedirs(os.path.join(TILES_DIR,'images'), exist_ok=True)"
   ]
  },
  {
   "cell_type": "code",
   "execution_count": 3,
   "id": "6f9d5c77",
   "metadata": {},
   "outputs": [],
   "source": [
    "# Keep only mitosis cells\n",
    "labels = pd.read_excel(LABELS_FILE, dtype={\"MPoint\": object})\n",
    "labels_mitosis = labels[labels['Mitosis']]"
   ]
  },
  {
   "cell_type": "code",
   "execution_count": 4,
   "id": "0c0e512a",
   "metadata": {},
   "outputs": [
    {
     "data": {
      "text/html": [
       "<div>\n",
       "<style scoped>\n",
       "    .dataframe tbody tr th:only-of-type {\n",
       "        vertical-align: middle;\n",
       "    }\n",
       "\n",
       "    .dataframe tbody tr th {\n",
       "        vertical-align: top;\n",
       "    }\n",
       "\n",
       "    .dataframe thead th {\n",
       "        text-align: right;\n",
       "    }\n",
       "</style>\n",
       "<table border=\"1\" class=\"dataframe\">\n",
       "  <thead>\n",
       "    <tr style=\"text-align: right;\">\n",
       "      <th></th>\n",
       "      <th>name</th>\n",
       "      <th>Combinacion</th>\n",
       "      <th>Image</th>\n",
       "      <th>Mitosis</th>\n",
       "      <th>SubImage</th>\n",
       "      <th>MPoint</th>\n",
       "    </tr>\n",
       "  </thead>\n",
       "  <tbody>\n",
       "    <tr>\n",
       "      <th>0</th>\n",
       "      <td>A03_00Aa_mitosis</td>\n",
       "      <td>A03_00Aa</td>\n",
       "      <td>A03</td>\n",
       "      <td>True</td>\n",
       "      <td>1</td>\n",
       "      <td>[[1094.0, 1223.0, 0.8]]</td>\n",
       "    </tr>\n",
       "    <tr>\n",
       "      <th>2</th>\n",
       "      <td>A03_00Ab_mitosis</td>\n",
       "      <td>A03_00Ab</td>\n",
       "      <td>A03</td>\n",
       "      <td>True</td>\n",
       "      <td>1</td>\n",
       "      <td>[[476.0, 394.0, 0.65]]</td>\n",
       "    </tr>\n",
       "    <tr>\n",
       "      <th>4</th>\n",
       "      <td>A03_00Ac_mitosis</td>\n",
       "      <td>A03_00Ac</td>\n",
       "      <td>A03</td>\n",
       "      <td>True</td>\n",
       "      <td>1</td>\n",
       "      <td>[[289.0, 1316.0, 0.65]]</td>\n",
       "    </tr>\n",
       "    <tr>\n",
       "      <th>6</th>\n",
       "      <td>A03_00Ad_mitosis</td>\n",
       "      <td>A03_00Ad</td>\n",
       "      <td>A03</td>\n",
       "      <td>True</td>\n",
       "      <td>3</td>\n",
       "      <td>[[1420.0, 199.0, 1.0], [200.0, 1190.0, 0.8], [...</td>\n",
       "    </tr>\n",
       "    <tr>\n",
       "      <th>7</th>\n",
       "      <td>A03_00Ba_mitosis</td>\n",
       "      <td>A03_00Ba</td>\n",
       "      <td>A03</td>\n",
       "      <td>True</td>\n",
       "      <td>1</td>\n",
       "      <td>[[660.0, 248.0, 0.65]]</td>\n",
       "    </tr>\n",
       "  </tbody>\n",
       "</table>\n",
       "</div>"
      ],
      "text/plain": [
       "               name Combinacion Image  Mitosis  SubImage  \\\n",
       "0  A03_00Aa_mitosis    A03_00Aa   A03     True         1   \n",
       "2  A03_00Ab_mitosis    A03_00Ab   A03     True         1   \n",
       "4  A03_00Ac_mitosis    A03_00Ac   A03     True         1   \n",
       "6  A03_00Ad_mitosis    A03_00Ad   A03     True         3   \n",
       "7  A03_00Ba_mitosis    A03_00Ba   A03     True         1   \n",
       "\n",
       "                                              MPoint  \n",
       "0                            [[1094.0, 1223.0, 0.8]]  \n",
       "2                             [[476.0, 394.0, 0.65]]  \n",
       "4                            [[289.0, 1316.0, 0.65]]  \n",
       "6  [[1420.0, 199.0, 1.0], [200.0, 1190.0, 0.8], [...  \n",
       "7                             [[660.0, 248.0, 0.65]]  "
      ]
     },
     "execution_count": 4,
     "metadata": {},
     "output_type": "execute_result"
    }
   ],
   "source": [
    "labels_mitosis.head()"
   ]
  },
  {
   "cell_type": "code",
   "execution_count": null,
   "id": "5b718d79",
   "metadata": {},
   "outputs": [],
   "source": [
    "'''Run data augmentation \n",
    " --> for every mitotic point we create \n",
    " - 10 images containing that cell and\n",
    " - 10 not containing any\n",
    " '''\n",
    "for i, row in labels_mitosis.iterrows():\n",
    "    filename = f'{row[\"Combinacion\"]}.tiff'\n",
    "    path_image = glob.glob(os.path.join(path_images,'*','x40', filename))\n",
    "    if os.path.exists(path_image[0]):\n",
    "        print(f\"Interpreting {filename}\")\n",
    "        cells = row[\"MPoint\"]\n",
    "        cells = ast.literal_eval(cells)\n",
    "        frame = Frame(path=path_image[0],\n",
    "                      cells=cells,\n",
    "                      tile_size=TILE_SIZE,\n",
    "                      num_tiles=NUM_TILES,\n",
    "                      path_annotations=path_annotations)\n",
    "\n",
    "        frame.get_records()\n",
    "        frame.create_mask()\n",
    "        frame.get_all_tiles()\n",
    "        frame.create_annotations()"
   ]
  },
  {
   "cell_type": "code",
   "execution_count": 122,
   "id": "9b3a24e8",
   "metadata": {},
   "outputs": [],
   "source": [
    "for i, row in labels_mitosis.iterrows():\n",
    "    filename = f'{row[\"Combinacion\"]}_mitosis.jpg'\n",
    "    #path_image = glob.glob(os.path.join(IMAGES_DIR,'*','x40', filename))\n",
    "    path_image = glob.glob(os.path.join(IMAGES_DIR, filename))\n",
    "    break"
   ]
  },
  {
   "cell_type": "code",
   "execution_count": 123,
   "id": "cd49f707",
   "metadata": {},
   "outputs": [
    {
     "data": {
      "text/plain": [
       "('A03_00Aa_mitosis.jpg',\n",
       " ['/home/operador/saturdays-ai/PAIthology/dataset/annotated_images/A03_00Aa_mitosis.jpg'])"
      ]
     },
     "execution_count": 123,
     "metadata": {},
     "output_type": "execute_result"
    }
   ],
   "source": [
    "filename, path_image"
   ]
  },
  {
   "cell_type": "code",
   "execution_count": 124,
   "id": "ffe22f90",
   "metadata": {},
   "outputs": [
    {
     "data": {
      "text/plain": [
       "True"
      ]
     },
     "execution_count": 124,
     "metadata": {},
     "output_type": "execute_result"
    }
   ],
   "source": [
    "os.path.exists(path_image[0])"
   ]
  },
  {
   "cell_type": "code",
   "execution_count": 125,
   "id": "a881b493",
   "metadata": {},
   "outputs": [
    {
     "data": {
      "text/plain": [
       "[[1094.0, 1223.0, 0.8]]"
      ]
     },
     "execution_count": 125,
     "metadata": {},
     "output_type": "execute_result"
    }
   ],
   "source": [
    "cells = row[\"MPoint\"]\n",
    "cells = ast.literal_eval(cells)\n",
    "cells"
   ]
  },
  {
   "cell_type": "code",
   "execution_count": 127,
   "id": "eab564af",
   "metadata": {},
   "outputs": [],
   "source": [
    "frame = Frame(path=path_image[0],\n",
    "                      cells=cells,\n",
    "                      tile_size=TILE_SIZE,\n",
    "                      num_tiles=NUM_TILES,\n",
    "                      path_annotations=TILES_DIR)"
   ]
  },
  {
   "cell_type": "code",
   "execution_count": 128,
   "id": "991e1808",
   "metadata": {},
   "outputs": [
    {
     "name": "stdout",
     "output_type": "stream",
     "text": [
      "Got records for A03_00Aa_mitosis.jpg\n"
     ]
    }
   ],
   "source": [
    "frame.get_records()"
   ]
  },
  {
   "cell_type": "code",
   "execution_count": 129,
   "id": "1b603753",
   "metadata": {},
   "outputs": [
    {
     "data": {
      "text/plain": [
       "{'x': 1094.0, 'y': 1223.0, 'confidence': 0.8}"
      ]
     },
     "execution_count": 129,
     "metadata": {},
     "output_type": "execute_result"
    }
   ],
   "source": [
    "frame.records[0].__dict__"
   ]
  },
  {
   "cell_type": "code",
   "execution_count": 130,
   "id": "87732375",
   "metadata": {},
   "outputs": [
    {
     "name": "stdout",
     "output_type": "stream",
     "text": [
      "Generated mask for A03_00Aa_mitosis.jpg\n"
     ]
    }
   ],
   "source": [
    "frame.create_mask()"
   ]
  },
  {
   "cell_type": "code",
   "execution_count": 131,
   "id": "38f11f1c",
   "metadata": {},
   "outputs": [
    {
     "data": {
      "text/plain": [
       "65536.0"
      ]
     },
     "execution_count": 131,
     "metadata": {},
     "output_type": "execute_result"
    }
   ],
   "source": [
    "frame.frame_mask.sum()"
   ]
  },
  {
   "cell_type": "code",
   "execution_count": 132,
   "id": "b9510211",
   "metadata": {},
   "outputs": [
    {
     "data": {
      "text/plain": [
       "(1376, 1539, 3)"
      ]
     },
     "execution_count": 132,
     "metadata": {},
     "output_type": "execute_result"
    }
   ],
   "source": [
    "frame.frame.shape"
   ]
  },
  {
   "cell_type": "code",
   "execution_count": 133,
   "id": "60b9ac65",
   "metadata": {},
   "outputs": [
    {
     "ename": "TypeError",
     "evalue": "slice indices must be integers or None or have an __index__ method",
     "output_type": "error",
     "traceback": [
      "\u001b[0;31m---------------------------------------------------------\u001b[0m",
      "\u001b[0;31mTypeError\u001b[0m               Traceback (most recent call last)",
      "\u001b[0;32m<ipython-input-133-eefcce5c9e01>\u001b[0m in \u001b[0;36m<module>\u001b[0;34m\u001b[0m\n\u001b[0;32m----> 1\u001b[0;31m \u001b[0mframe\u001b[0m\u001b[0;34m.\u001b[0m\u001b[0mget_all_tiles\u001b[0m\u001b[0;34m(\u001b[0m\u001b[0;34m)\u001b[0m\u001b[0;34m\u001b[0m\u001b[0;34m\u001b[0m\u001b[0m\n\u001b[0m",
      "\u001b[0;32m<ipython-input-126-3c5e3a077f27>\u001b[0m in \u001b[0;36mget_all_tiles\u001b[0;34m(self)\u001b[0m\n\u001b[1;32m     41\u001b[0m \u001b[0;34m\u001b[0m\u001b[0m\n\u001b[1;32m     42\u001b[0m     \u001b[0;32mdef\u001b[0m \u001b[0mget_all_tiles\u001b[0m\u001b[0;34m(\u001b[0m\u001b[0mself\u001b[0m\u001b[0;34m)\u001b[0m\u001b[0;34m:\u001b[0m\u001b[0;34m\u001b[0m\u001b[0;34m\u001b[0m\u001b[0m\n\u001b[0;32m---> 43\u001b[0;31m         \u001b[0mtile_generator\u001b[0m \u001b[0;34m=\u001b[0m \u001b[0mTileGenerator\u001b[0m\u001b[0;34m(\u001b[0m\u001b[0mself\u001b[0m\u001b[0;34m,\u001b[0m \u001b[0mself\u001b[0m\u001b[0;34m.\u001b[0m\u001b[0mtile_size\u001b[0m\u001b[0;34m,\u001b[0m \u001b[0mself\u001b[0m\u001b[0;34m.\u001b[0m\u001b[0mnum_tiles\u001b[0m\u001b[0;34m)\u001b[0m\u001b[0;34m\u001b[0m\u001b[0;34m\u001b[0m\u001b[0m\n\u001b[0m\u001b[1;32m     44\u001b[0m         \u001b[0mself\u001b[0m\u001b[0;34m.\u001b[0m\u001b[0mtiles_mitosis\u001b[0m \u001b[0;34m=\u001b[0m \u001b[0mtile_generator\u001b[0m\u001b[0;34m.\u001b[0m\u001b[0mgenerate_real_positive_tiles\u001b[0m\u001b[0;34m(\u001b[0m\u001b[0;34m)\u001b[0m\u001b[0;34m\u001b[0m\u001b[0;34m\u001b[0m\u001b[0m\n\u001b[1;32m     45\u001b[0m         \u001b[0mself\u001b[0m\u001b[0;34m.\u001b[0m\u001b[0mtiles_not_mitosis\u001b[0m \u001b[0;34m=\u001b[0m \u001b[0mtile_generator\u001b[0m\u001b[0;34m.\u001b[0m\u001b[0mgenerate_real_negative_tiles\u001b[0m\u001b[0;34m(\u001b[0m\u001b[0;34m)\u001b[0m\u001b[0;34m\u001b[0m\u001b[0;34m\u001b[0m\u001b[0m\n",
      "\u001b[0;32m<ipython-input-121-565051cb523b>\u001b[0m in \u001b[0;36m__init__\u001b[0;34m(self, frame, tile_size, num_tiles)\u001b[0m\n\u001b[1;32m      7\u001b[0m         \u001b[0mself\u001b[0m\u001b[0;34m.\u001b[0m\u001b[0mmitotic_coordinates\u001b[0m \u001b[0;34m=\u001b[0m \u001b[0mframe\u001b[0m\u001b[0;34m.\u001b[0m\u001b[0mrecords\u001b[0m\u001b[0;34m\u001b[0m\u001b[0;34m\u001b[0m\u001b[0m\n\u001b[1;32m      8\u001b[0m         \u001b[0mself\u001b[0m\u001b[0;34m.\u001b[0m\u001b[0mcentroid_limits\u001b[0m \u001b[0;34m=\u001b[0m \u001b[0mself\u001b[0m\u001b[0;34m.\u001b[0m\u001b[0mget_centroid_limits\u001b[0m\u001b[0;34m(\u001b[0m\u001b[0;34m)\u001b[0m\u001b[0;34m\u001b[0m\u001b[0;34m\u001b[0m\u001b[0m\n\u001b[0;32m----> 9\u001b[0;31m         \u001b[0mself\u001b[0m\u001b[0;34m.\u001b[0m\u001b[0mpossible_negative_centroids\u001b[0m \u001b[0;34m=\u001b[0m \u001b[0mself\u001b[0m\u001b[0;34m.\u001b[0m\u001b[0mget_possible_negative_centroids\u001b[0m\u001b[0;34m(\u001b[0m\u001b[0;34m)\u001b[0m\u001b[0;34m\u001b[0m\u001b[0;34m\u001b[0m\u001b[0m\n\u001b[0m\u001b[1;32m     10\u001b[0m         \u001b[0mself\u001b[0m\u001b[0;34m.\u001b[0m\u001b[0mpossible_positive_centroids\u001b[0m \u001b[0;34m=\u001b[0m \u001b[0mself\u001b[0m\u001b[0;34m.\u001b[0m\u001b[0mget_possible_positive_centroids\u001b[0m\u001b[0;34m(\u001b[0m\u001b[0;34m)\u001b[0m\u001b[0;34m\u001b[0m\u001b[0;34m\u001b[0m\u001b[0m\n\u001b[1;32m     11\u001b[0m \u001b[0;34m\u001b[0m\u001b[0m\n",
      "\u001b[0;32m<ipython-input-121-565051cb523b>\u001b[0m in \u001b[0;36mget_possible_negative_centroids\u001b[0;34m(self)\u001b[0m\n\u001b[1;32m     12\u001b[0m     \u001b[0;32mdef\u001b[0m \u001b[0mget_possible_negative_centroids\u001b[0m\u001b[0;34m(\u001b[0m\u001b[0mself\u001b[0m\u001b[0;34m)\u001b[0m\u001b[0;34m:\u001b[0m\u001b[0;34m\u001b[0m\u001b[0;34m\u001b[0m\u001b[0m\n\u001b[1;32m     13\u001b[0m \u001b[0;34m\u001b[0m\u001b[0m\n\u001b[0;32m---> 14\u001b[0;31m         possible_centroids = frame.frame_mask[\n\u001b[0m\u001b[1;32m     15\u001b[0m             \u001b[0mself\u001b[0m\u001b[0;34m.\u001b[0m\u001b[0mcentroid_limits\u001b[0m\u001b[0;34m[\u001b[0m\u001b[0;36m0\u001b[0m\u001b[0;34m]\u001b[0m\u001b[0;34m[\u001b[0m\u001b[0;36m0\u001b[0m\u001b[0;34m]\u001b[0m\u001b[0;34m:\u001b[0m\u001b[0mself\u001b[0m\u001b[0;34m.\u001b[0m\u001b[0mcentroid_limits\u001b[0m\u001b[0;34m[\u001b[0m\u001b[0;36m0\u001b[0m\u001b[0;34m]\u001b[0m\u001b[0;34m[\u001b[0m\u001b[0;36m1\u001b[0m\u001b[0;34m]\u001b[0m\u001b[0;34m,\u001b[0m\u001b[0;34m\u001b[0m\u001b[0;34m\u001b[0m\u001b[0m\n\u001b[1;32m     16\u001b[0m             \u001b[0mself\u001b[0m\u001b[0;34m.\u001b[0m\u001b[0mcentroid_limits\u001b[0m\u001b[0;34m[\u001b[0m\u001b[0;36m1\u001b[0m\u001b[0;34m]\u001b[0m\u001b[0;34m[\u001b[0m\u001b[0;36m0\u001b[0m\u001b[0;34m]\u001b[0m\u001b[0;34m:\u001b[0m\u001b[0mself\u001b[0m\u001b[0;34m.\u001b[0m\u001b[0mcentroid_limits\u001b[0m\u001b[0;34m[\u001b[0m\u001b[0;36m1\u001b[0m\u001b[0;34m]\u001b[0m\u001b[0;34m[\u001b[0m\u001b[0;36m1\u001b[0m\u001b[0;34m]\u001b[0m\u001b[0;34m\u001b[0m\u001b[0;34m\u001b[0m\u001b[0m\n",
      "\u001b[0;31mTypeError\u001b[0m: slice indices must be integers or None or have an __index__ method"
     ]
    }
   ],
   "source": [
    "frame.get_all_tiles()"
   ]
  },
  {
   "cell_type": "code",
   "execution_count": 134,
   "id": "c5fbeb64",
   "metadata": {},
   "outputs": [
    {
     "ename": "TypeError",
     "evalue": "slice indices must be integers or None or have an __index__ method",
     "output_type": "error",
     "traceback": [
      "\u001b[0;31m---------------------------------------------------------\u001b[0m",
      "\u001b[0;31mTypeError\u001b[0m               Traceback (most recent call last)",
      "\u001b[0;32m<ipython-input-134-0c8d61e389b6>\u001b[0m in \u001b[0;36m<module>\u001b[0;34m\u001b[0m\n\u001b[0;32m----> 1\u001b[0;31m \u001b[0mtg\u001b[0m \u001b[0;34m=\u001b[0m \u001b[0mTileGenerator\u001b[0m\u001b[0;34m(\u001b[0m\u001b[0mframe\u001b[0m\u001b[0;34m,\u001b[0m \u001b[0mframe\u001b[0m\u001b[0;34m.\u001b[0m\u001b[0mtile_size\u001b[0m\u001b[0;34m,\u001b[0m \u001b[0mframe\u001b[0m\u001b[0;34m.\u001b[0m\u001b[0mnum_tiles\u001b[0m\u001b[0;34m)\u001b[0m\u001b[0;34m\u001b[0m\u001b[0;34m\u001b[0m\u001b[0m\n\u001b[0m",
      "\u001b[0;32m<ipython-input-121-565051cb523b>\u001b[0m in \u001b[0;36m__init__\u001b[0;34m(self, frame, tile_size, num_tiles)\u001b[0m\n\u001b[1;32m      7\u001b[0m         \u001b[0mself\u001b[0m\u001b[0;34m.\u001b[0m\u001b[0mmitotic_coordinates\u001b[0m \u001b[0;34m=\u001b[0m \u001b[0mframe\u001b[0m\u001b[0;34m.\u001b[0m\u001b[0mrecords\u001b[0m\u001b[0;34m\u001b[0m\u001b[0;34m\u001b[0m\u001b[0m\n\u001b[1;32m      8\u001b[0m         \u001b[0mself\u001b[0m\u001b[0;34m.\u001b[0m\u001b[0mcentroid_limits\u001b[0m \u001b[0;34m=\u001b[0m \u001b[0mself\u001b[0m\u001b[0;34m.\u001b[0m\u001b[0mget_centroid_limits\u001b[0m\u001b[0;34m(\u001b[0m\u001b[0;34m)\u001b[0m\u001b[0;34m\u001b[0m\u001b[0;34m\u001b[0m\u001b[0m\n\u001b[0;32m----> 9\u001b[0;31m         \u001b[0mself\u001b[0m\u001b[0;34m.\u001b[0m\u001b[0mpossible_negative_centroids\u001b[0m \u001b[0;34m=\u001b[0m \u001b[0mself\u001b[0m\u001b[0;34m.\u001b[0m\u001b[0mget_possible_negative_centroids\u001b[0m\u001b[0;34m(\u001b[0m\u001b[0;34m)\u001b[0m\u001b[0;34m\u001b[0m\u001b[0;34m\u001b[0m\u001b[0m\n\u001b[0m\u001b[1;32m     10\u001b[0m         \u001b[0mself\u001b[0m\u001b[0;34m.\u001b[0m\u001b[0mpossible_positive_centroids\u001b[0m \u001b[0;34m=\u001b[0m \u001b[0mself\u001b[0m\u001b[0;34m.\u001b[0m\u001b[0mget_possible_positive_centroids\u001b[0m\u001b[0;34m(\u001b[0m\u001b[0;34m)\u001b[0m\u001b[0;34m\u001b[0m\u001b[0;34m\u001b[0m\u001b[0m\n\u001b[1;32m     11\u001b[0m \u001b[0;34m\u001b[0m\u001b[0m\n",
      "\u001b[0;32m<ipython-input-121-565051cb523b>\u001b[0m in \u001b[0;36mget_possible_negative_centroids\u001b[0;34m(self)\u001b[0m\n\u001b[1;32m     12\u001b[0m     \u001b[0;32mdef\u001b[0m \u001b[0mget_possible_negative_centroids\u001b[0m\u001b[0;34m(\u001b[0m\u001b[0mself\u001b[0m\u001b[0;34m)\u001b[0m\u001b[0;34m:\u001b[0m\u001b[0;34m\u001b[0m\u001b[0;34m\u001b[0m\u001b[0m\n\u001b[1;32m     13\u001b[0m \u001b[0;34m\u001b[0m\u001b[0m\n\u001b[0;32m---> 14\u001b[0;31m         possible_centroids = frame.frame_mask[\n\u001b[0m\u001b[1;32m     15\u001b[0m             \u001b[0mself\u001b[0m\u001b[0;34m.\u001b[0m\u001b[0mcentroid_limits\u001b[0m\u001b[0;34m[\u001b[0m\u001b[0;36m0\u001b[0m\u001b[0;34m]\u001b[0m\u001b[0;34m[\u001b[0m\u001b[0;36m0\u001b[0m\u001b[0;34m]\u001b[0m\u001b[0;34m:\u001b[0m\u001b[0mself\u001b[0m\u001b[0;34m.\u001b[0m\u001b[0mcentroid_limits\u001b[0m\u001b[0;34m[\u001b[0m\u001b[0;36m0\u001b[0m\u001b[0;34m]\u001b[0m\u001b[0;34m[\u001b[0m\u001b[0;36m1\u001b[0m\u001b[0;34m]\u001b[0m\u001b[0;34m,\u001b[0m\u001b[0;34m\u001b[0m\u001b[0;34m\u001b[0m\u001b[0m\n\u001b[1;32m     16\u001b[0m             \u001b[0mself\u001b[0m\u001b[0;34m.\u001b[0m\u001b[0mcentroid_limits\u001b[0m\u001b[0;34m[\u001b[0m\u001b[0;36m1\u001b[0m\u001b[0;34m]\u001b[0m\u001b[0;34m[\u001b[0m\u001b[0;36m0\u001b[0m\u001b[0;34m]\u001b[0m\u001b[0;34m:\u001b[0m\u001b[0mself\u001b[0m\u001b[0;34m.\u001b[0m\u001b[0mcentroid_limits\u001b[0m\u001b[0;34m[\u001b[0m\u001b[0;36m1\u001b[0m\u001b[0;34m]\u001b[0m\u001b[0;34m[\u001b[0m\u001b[0;36m1\u001b[0m\u001b[0;34m]\u001b[0m\u001b[0;34m\u001b[0m\u001b[0;34m\u001b[0m\u001b[0m\n",
      "\u001b[0;31mTypeError\u001b[0m: slice indices must be integers or None or have an __index__ method"
     ]
    }
   ],
   "source": [
    "tg = TileGenerator(frame, frame.tile_size, frame.num_tiles)"
   ]
  },
  {
   "cell_type": "code",
   "execution_count": 126,
   "id": "8de43b78",
   "metadata": {},
   "outputs": [],
   "source": [
    "# This could be a namedtuple\n",
    "class Record:\n",
    "    \"\"\"Class which gathers information of the position and confidence of a cell.\"\"\"\n",
    "    def __init__(self, x: int, y: int, confidence: float):\n",
    "        self.x = x\n",
    "        self.y = y\n",
    "        self.confidence = confidence\n",
    "\n",
    "class Frame:\n",
    "    \"\"\"Class containg all the information gathered of an specific frame and its\n",
    "    mitotic and not mitotic tiles.\"\"\"\n",
    "    def __init__(self, path, cells, tile_size, num_tiles=10, path_annotations=None):\n",
    "        self.path = path\n",
    "        self.filename = os.path.basename(path)\n",
    "        self.frame = cv2.imread(path)\n",
    "        self.width = self.frame.shape[0]\n",
    "        self.height = self.frame.shape[1]\n",
    "        self.tile_size = tile_size\n",
    "        self.num_tiles = num_tiles\n",
    "        self.cells = cells\n",
    "        self.tiles_mitosis = []\n",
    "        self.tiles_not_mitosis = []\n",
    "        self.records = []\n",
    "        self.path_annotations = path_annotations\n",
    "        self.frame_mask = []\n",
    "        \n",
    "    def get_records(self):\n",
    "        self.records = [Record(*cell) for cell in self.cells]\n",
    "        print(f'Got records for {self.filename}')\n",
    "        \n",
    "        \n",
    "    def create_mask(self):\n",
    "        '''Generate a mask of ones around the mitosis point'''\n",
    "        mask = np.zeros((self.height, self.width))\n",
    "        for record in self.records:\n",
    "            # This could use floor and ceiling to also work with odd tile sizes \n",
    "            mask[int(record.x-(self.tile_size/2)):int(record.x+(self.tile_size/2)),\n",
    "                 int(record.y-(self.tile_size/2)):int(record.y+(self.tile_size/2))] = 1\n",
    "        self.frame_mask = mask\n",
    "        print(f'Generated mask for {self.filename}')\n",
    "\n",
    "    def get_all_tiles(self):\n",
    "        tile_generator = TileGenerator(self, self.tile_size, self.num_tiles)\n",
    "        self.tiles_mitosis = tile_generator.generate_real_positive_tiles()\n",
    "        self.tiles_not_mitosis = tile_generator.generate_real_negative_tiles()\n",
    "\n",
    "    def update_tiles_mitosis(self,tile):\n",
    "        self.tiles_mitosis += [tile]\n",
    "    \n",
    "    def update_tiles_not_mitosis(self,tile):\n",
    "        self.tiles_not_mitosis += [tile]\n",
    "        \n",
    "    def create_annotations(self):\n",
    "        delta = 15\n",
    "        count = 0\n",
    "        for tile_mitosis in self.tiles_mitosis:\n",
    "            image = tile_mitosis.tile\n",
    "            tree = create_base_xml(self,image,f\"{self.filename.replace('.tiff','')}_mitosis_{count}.jpg\")\n",
    "            for record in tile_mitosis.records:\n",
    "                coordinates = (record.x - delta, record.x  + delta, record.y - delta, record.y + delta)\n",
    "                tree = create_object_xml(tree,coordinates)\n",
    "            tree.write(os.path.join(self.path_annotations,'annotations',f\"{self.filename.replace('.tiff','')}_mitosis_{count}.xml\"))\n",
    "            cv2.imwrite(os.path.join(self.path_annotations,'images',f\"{self.filename.replace('.tiff','')}_mitosis_{count}.jpg\"),image) \n",
    "            count += 1\n",
    "        count = 0\n",
    "        for tile_not_mitosis in self.tiles_not_mitosis:\n",
    "            image_not = tile_not_mitosis.tile\n",
    "            tree = create_base_xml(self,image,f\"{self.filename.replace('.tiff','')}_notmitosis_{count}.jpg\")\n",
    "            tree.write(os.path.join(self.path_annotations,'annotations',f\"{self.filename.replace('.tiff','')}_notmitosis_{count}.xml\"))\n",
    "            cv2.imwrite(os.path.join(self.path_annotations,'images',f\"{self.filename.replace('.tiff','')}_notmitosis_{count}.jpg\"),image_not) \n",
    "            count += 1"
   ]
  },
  {
   "cell_type": "code",
   "execution_count": 121,
   "id": "69127140",
   "metadata": {},
   "outputs": [],
   "source": [
    "class TileGenerator:\n",
    "    def __init__(self, frame, tile_size, num_tiles):\n",
    "        self.tile_size = tile_size\n",
    "        self.num_tiles = num_tiles\n",
    "        self.frame = frame\n",
    "        self.image_frame = np.array(frame.frame)\n",
    "        self.mitotic_coordinates = frame.records\n",
    "        self.centroid_limits = self.get_centroid_limits()\n",
    "        self.possible_negative_centroids = self.get_possible_negative_centroids()\n",
    "        self.possible_positive_centroids = self.get_possible_positive_centroids()\n",
    "        \n",
    "    def get_possible_negative_centroids(self):\n",
    "        \n",
    "        possible_centroids = frame.frame_mask[\n",
    "            self.centroid_limits[0][0]:self.centroid_limits[0][1],\n",
    "            self.centroid_limits[1][0]:self.centroid_limits[1][1]\n",
    "        ]\n",
    "        return [*zip(*np.where(possible_centroids == 0))]\n",
    "    \n",
    "    def get_possible_positive_centroids(self):\n",
    "        \n",
    "        possible_centroids = frame.frame_mask[\n",
    "            self.centroid_limits[0][0]:self.centroid_limits[0][1],\n",
    "            self.centroid_limits[1][0]:self.centroid_limits[1][1]\n",
    "        ]\n",
    "        return [*zip(*np.where(possible_centroids == 1))]\n",
    "        \n",
    "    def get_random_negative_tile_centroid(self):\n",
    "        return random.choice(self.possible_negative_centroids)\n",
    "        \n",
    "    def get_random_positive_tile_centroid(self):\n",
    "        return random.choice(self.possible_postive_centroids)\n",
    "    \n",
    "    def get_centroid_limits(self):\n",
    "        limits_random_centroid_x = (\n",
    "            self.tile_size/2, # min limit\n",
    "            frame.frame.shape[0] - self.tile_size/2  # max limit\n",
    "        )\n",
    "\n",
    "        limits_random_centroid_y = (\n",
    "            self.tile_size/2, # min limit\n",
    "            frame.frame.shape[1] - self.tile_size/2  # max limit\n",
    "        )\n",
    "\n",
    "        return limits_random_centroid_x, limits_random_centroid_y\n",
    "    \n",
    "    def get_boundaries_tile(self, centroid):\n",
    "        return (\n",
    "            (centroid_coord - self.tile_size/2, centroid_coord + self.tile_size/2) for centroid_coord in centroid\n",
    "        )\n",
    "    \n",
    "    def check_record_presence_in_boundaries(record, boundaries):\n",
    "        return (boundaries[0][0] <= record.x <= boundaries[0][1]) and \\\n",
    "               (boundaries[1][0] <= record.y <= boundaries[1][1])\n",
    "    \n",
    "    def frame_record_to_tile_record(x_min_tile : int, y_min_tile : int, record: Record) -> Record:\n",
    "        x_tile = record.x - x_min_tile\n",
    "        y_tile = record.y - y_min_tile    \n",
    "        return Record(x_tile, y_tile, record.confidence)\n",
    "    \n",
    "    def generate_real_negative_tiles(self):\n",
    "        negative_tiles_centroids = [self.get_random_negative_tile_centroid() for _ in range(num_tiles)]\n",
    "        boundaries_negative_tiles = [self.get_boundaries_tile(cent) for cent in negative_tiles_centroids]\n",
    "        negative_tiles_images = [self.image_frame[boundaries[0][0]:boundaries[0][1],\n",
    "            boundaries[1][0]:boundaries[1][1]] for boundaries in boundaries_negative_tiles]\n",
    "        negative_tiles_records = [\n",
    "            [self.frame_record_to_tile_record(boundaries[0][0], boundaries[1][0], record) \n",
    "                 for record in self.mitotic_coordinates\n",
    "                 if self.check_record_presence_in_boundaries(record, boundaries)\n",
    "            ]\n",
    "            for boundaries in boundaries_negative_tiles\n",
    "        ]\n",
    "        return [Tile(image, records) for image, records in zip(negative_tiles_images, negative_tiles_records)]\n",
    "    \n",
    "    def generate_real_positive_tiles(self):\n",
    "        positive_tiles_centroids = [self.get_random_positive_tile_centroid() for _ in range(num_tiles)]\n",
    "        boundaries_positive_tiles = [self.get_boundaries_tile(cent) for cent in positive_tiles_centroids]\n",
    "        positive_tiles_images = [self.image_frame[boundaries[0][0]:boundaries[0][1],\n",
    "            boundaries[1][0]:boundaries[1][1]] for boundaries in boundaries_positive_tiles]\n",
    "        positive_tiles_records = [\n",
    "            [self.frame_record_to_tile_record(boundaries[0][0], boundaries[1][0], record) \n",
    "                 for record in self.mitotic_coordinates\n",
    "                 if self.check_record_presence_in_boundaries(record, boundaries)\n",
    "            ]\n",
    "            for boundaries in boundaries_positive_tiles\n",
    "        ]\n",
    "        return [Tile(image, records) for image, records in zip(positive_tiles_images, positive_tiles_records)]\n",
    "\n",
    "\n",
    "    def generate_negative_tiles(self, coordinates):\n",
    "        \"\"\"Generates random tiles that do NOT contain the mitotic coordinates. We pick x1 and y1\n",
    "        randomly within the range of the whole image.\n",
    "        We then randomly choose x2 and y2 if the patch does not contain the mitotic coordinates,\n",
    "        we discard it otherwise\"\"\"\n",
    "        x_image, y_image, _ = self.image_frame.shape\n",
    "        x_mitotic, y_mitotic = coordinates\n",
    "\n",
    "        coord_x1 = []\n",
    "        coord_y1 = []\n",
    "        coord_x2 = []\n",
    "        coord_y2 = []\n",
    "\n",
    "        choice = [self.tile_size, -self.tile_size]\n",
    "\n",
    "        i = 0\n",
    "        while i < self.num_tiles:\n",
    "            #choose x1 and y1 within the whole image\n",
    "            x_choice = np.random.randint(0, x_image, 1)\n",
    "            y_choice = np.random.randint(0, y_image, 1)\n",
    "            #generate random x2 and y2 candidates, we then choose the ones that do\n",
    "            # not contain the mitotic coordinates\n",
    "            x2_candidate = x_choice + (random.choice(choice))\n",
    "            y2_candidate = y_choice + (random.choice(choice))                  \n",
    "            # search if choice of coordinates inside boundaries and if valid centre of \\\n",
    "            # coordinates. This is achieved when the value of frame.frame_mask == 0. \n",
    "            if (0 < x2_candidate[0] < x_image) \\\n",
    "                and (0 < x_choice[0] +int(self.frame.tile_size/2) < x_image)\\\n",
    "                and (0 < y2_candidate[0] < y_image) and (0 < y_choice[0] +int(self.frame.tile_size/2) < y_image)\\\n",
    "                and (self.frame.frame_mask[y_choice[0]+int(self.frame.tile_size/2),x_choice[0]+int(self.frame.tile_size/2)] == 0)\\\n",
    "                and (abs(x_choice - x2_candidate) == self.tile_size and abs(y_choice - y2_candidate == self.tile_size)):\n",
    "\n",
    "                coord_x1.append(x_choice)\n",
    "                coord_y1.append(y_choice)\n",
    "\n",
    "                coord_x2.append(x2_candidate)\n",
    "                coord_y2.append(y2_candidate)\n",
    "                i += 1\n",
    "        return (coord_x1, coord_x2, coord_y1, coord_y2)\n",
    "\n",
    "    def generate_positive_patches(self, coordinates):\n",
    "        \"\"\"Generates random tiles that contain the mitotic coordinates. We pick x1 and y1\n",
    "        randomly within the range of the mitotic coordinates, given a tile size. We then randomly choose\n",
    "        x2 and y2 if the patch contains the mitotic coordinates, we discard it otherwise\"\"\"\n",
    "        x_image, y_image, _ = self.image.shape\n",
    "        x_mitotic, y_mitotic = coordinates\n",
    "\n",
    "        coord_x1 = []\n",
    "        coord_y1 = []\n",
    "        coord_x2 = []\n",
    "        coord_y2 = []\n",
    "\n",
    "        choice = [self.tile_size, -self.tile_size]\n",
    "\n",
    "        i = 0\n",
    "\n",
    "        while i < self.num_tiles:\n",
    "            #we get x1,y1 randomly within the range of the tile size, centered on the mitotic coordinates\n",
    "            x_choice = np.random.randint(x_mitotic - self.tile_size, x_mitotic + self.tile_size, 1)\n",
    "            y_choice = np.random.randint(y_mitotic - self.tile_size, y_mitotic + self.tile_size, 1)\n",
    "\n",
    "            #We generate x2 and y2 candidates, and we check if the mitotic coordinates are contained in the patch\n",
    "            x2_candidate = x_choice + (random.choice(choice))\n",
    "            y2_candidate = y_choice + (random.choice(choice))\n",
    "\n",
    "            if (0 < x_choice[0] < x_image) and (0 < y_choice[0] < y_image) \\\n",
    "            and (0 < x2_candidate[0] < x_image) and (0 < y2_candidate[0] < y_image) \\\n",
    "            and (x_mitotic - self.tile_size < x2_candidate < x_mitotic + self.tile_size) \\\n",
    "            and (y_mitotic - self.tile_size < y2_candidate < y_mitotic + self.tile_size)\\\n",
    "            and (abs(x_choice - x2_candidate) == self.tile_size and abs(y_choice - y2_candidate == self.tile_size)):\n",
    "\n",
    "                coord_x1.append(x_choice)\n",
    "                coord_y1.append(y_choice)\n",
    "\n",
    "                coord_x2.append(x2_candidate)\n",
    "                coord_y2.append(y2_candidate)\n",
    "                i += 1\n",
    "\n",
    "        return (coord_x1, coord_x2, coord_y1, coord_y2)\n",
    "    \n",
    "    \n",
    "\n",
    "    def generate_tiles(self, frame):\n",
    "        \"\"\"calls both functions for generating positive and negative patches and stores the images in\n",
    "        two separate lists (lists of numpy arrays)\"\"\"\n",
    "        \n",
    "        for m_coordinates in self.mitotic_coordinates:\n",
    "            coordinates = (m_coordinates.x, m_coordinates.y)\n",
    "            confidence = m_coordinates.confidence\n",
    "\n",
    "            pos_x1_coord, pos_x2_coord, pos_y1_coord, pos_y2_coord = \\\n",
    "                self.generate_positive_patches(coordinates)\n",
    "    \n",
    "            \n",
    "            neg_x1_coord, neg_x2_coord, neg_y1_coord, neg_y2_coord = \\\n",
    "                self.generate_negative_patches(coordinates)\n",
    "    \n",
    "    \n",
    "            for i in range(self.num_tiles):\n",
    "                x1_mitotic = int(min(pos_x1_coord[i], pos_x2_coord[i]))\n",
    "                x2_mitotic = int(max(pos_x1_coord[i], pos_x2_coord[i]))\n",
    "                y1_mitotic = int(min(pos_y1_coord[i], pos_y2_coord[i]))\n",
    "                y2_mitotic = int(max(pos_y1_coord[i], pos_y2_coord[i]))\n",
    "                \n",
    "                individual_mitotic_patch = self.image[x1_mitotic:x2_mitotic, y1_mitotic:y2_mitotic, :]\n",
    "                tile_mitosis = Tile(individual_mitotic_patch)\n",
    "                record_tile = get_cell_coordinates_in_tile(x1_mitotic,y1_mitotic,\\\n",
    "                              coordinates[0],coordinates[1],confidence)\n",
    "                tile_mitosis.update_records(record_tile)\n",
    "                # Checkear si que el tile creado contiene mas de una céluala mitótica.\n",
    "                for record in self.frame.records:\n",
    "                    if (x1_mitotic < record.x <x2_mitotic) \\\n",
    "                    and (y1_mitotic < record.y <y2_mitotic) \\\n",
    "                    and (m_coordinates.x != record.x) \\\n",
    "                    and (m_coordinates.y != record.y):\n",
    "                        record_tile_plus = get_cell_coordinates_in_tile(x1_mitotic,y1_mitotic,\\\n",
    "                              record.x,record.y,record.confidence)\n",
    "                        tile_mitosis.update_records(record_tile_plus)\n",
    "                \n",
    "                \n",
    "                self.frame.update_tiles_mitosis(tile_mitosis)\n",
    "                \n",
    "\n",
    "                x1_not_mitotic = int(min(neg_x1_coord[i], neg_x2_coord[i]))\n",
    "                x2_not_mitotic = int(max(neg_x1_coord[i], neg_x2_coord[i]))\n",
    "                y1_not_mitotic = int(min(neg_y1_coord[i], neg_y2_coord[i]))\n",
    "                y2_not_mitotic = int(max(neg_y1_coord[i], neg_y2_coord[i]))\n",
    "    \n",
    "                individual_not_mitotic_patch = self.image[x1_not_mitotic:x2_not_mitotic, y1_not_mitotic:y2_not_mitotic, :]\n",
    "                tile_not_mitosis = Tile(individual_not_mitotic_patch)\n",
    "                self.frame.update_tiles_not_mitosis(tile_not_mitosis)\n",
    "\n",
    "                \n",
    "class Tile:\n",
    "    \"\"\"Class of all sub-frames and the specific position of mitotic cells in them.\"\"\"\n",
    "    def __init__(self, image, records=None):\n",
    "        self.tile = image\n",
    "        self.records = records or []\n",
    "    \n",
    "    def update_records(self,record):\n",
    "        self.records += [record]"
   ]
  },
  {
   "cell_type": "code",
   "execution_count": null,
   "id": "97ba217f",
   "metadata": {},
   "outputs": [],
   "source": []
  }
 ],
 "metadata": {
  "kernelspec": {
   "display_name": "Python 3",
   "language": "python",
   "name": "python3"
  },
  "language_info": {
   "codemirror_mode": {
    "name": "ipython",
    "version": 3
   },
   "file_extension": ".py",
   "mimetype": "text/x-python",
   "name": "python",
   "nbconvert_exporter": "python",
   "pygments_lexer": "ipython3",
   "version": "3.8.5"
  }
 },
 "nbformat": 4,
 "nbformat_minor": 5
}
